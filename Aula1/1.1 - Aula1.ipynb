{
 "cells": [
  {
   "cell_type": "markdown",
   "id": "photographic-repository",
   "metadata": {},
   "source": [
    "# Jupyter IDE\n",
    "### Células Code\n",
    "### Células Markdown\n",
    "oi\n",
    "**bold**\n",
    "*italic*\n",
    "# Titulo 1\n",
    "## Titulo 2\n",
    "### Titulo 3"
   ]
  },
  {
   "cell_type": "markdown",
   "id": "deadly-ozone",
   "metadata": {},
   "source": [
    "Instalar IPython and Jupyter:\n",
    "\n",
    "https://jupyter.readthedocs.io/en/latest/install/notebook-classic.html\n",
    "\n",
    "https://medium.com/horadecodar/como-instalar-o-jupyter-notebook-windows-e-linux-20701fc583c\n",
    "\n",
    "Com conda:\n",
    "\n",
    "conda install ipython jupyter\n",
    "\n",
    "Com pip:\n",
    "\n",
    "pip install --upgrade pip\n",
    "pip install --upgrade ipython jupyter\n",
    "\n",
    "Inicie jupyther no terminal \n",
    "\n",
    "jupyter notebook\n",
    "\n",
    "https://jupyter.readthedocs.io/en/latest/running.html\n",
    "\n",
    "Aprendendo programação em python\n",
    "\n",
    "https://pt.coursera.org/learn/ciencia-computacao-python-conceitos\n",
    "\n",
    "https://pt.coursera.org/learn/ciencia-computacao-python-conceitos-2?"
   ]
  },
  {
   "cell_type": "markdown",
   "id": "wrong-tumor",
   "metadata": {},
   "source": [
    "Funciona como Interpretador Python - Shift Enter Executa"
   ]
  },
  {
   "cell_type": "code",
   "execution_count": null,
   "id": "controlling-intent",
   "metadata": {},
   "outputs": [],
   "source": [
    "a = 17\n",
    "print (a)"
   ]
  },
  {
   "cell_type": "markdown",
   "id": "distributed-stewart",
   "metadata": {},
   "source": [
    "Memória é mantida"
   ]
  },
  {
   "cell_type": "code",
   "execution_count": null,
   "id": "failing-karaoke",
   "metadata": {},
   "outputs": [],
   "source": [
    "print(a+3)"
   ]
  },
  {
   "cell_type": "markdown",
   "id": "chinese-makeup",
   "metadata": {},
   "source": [
    "## Busca\n",
    "Mochila 0/1"
   ]
  },
  {
   "cell_type": "markdown",
   "id": "improved-extent",
   "metadata": {},
   "source": [
    "### Satisfação de Restrições"
   ]
  },
  {
   "cell_type": "markdown",
   "id": "photographic-senior",
   "metadata": {},
   "source": [
    "Avanço de Estados"
   ]
  },
  {
   "cell_type": "code",
   "execution_count": null,
   "id": "moved-terminology",
   "metadata": {},
   "outputs": [],
   "source": [
    "def step (l):\n",
    "    return [l+[0], l+[1]]\n"
   ]
  },
  {
   "cell_type": "code",
   "execution_count": null,
   "id": "marked-emergency",
   "metadata": {},
   "outputs": [],
   "source": [
    "step ([])"
   ]
  },
  {
   "cell_type": "markdown",
   "id": "committed-basic",
   "metadata": {},
   "source": [
    "Expansão de Estados"
   ]
  },
  {
   "cell_type": "code",
   "execution_count": null,
   "id": "concrete-medicine",
   "metadata": {},
   "outputs": [],
   "source": [
    "def expand(l):\n",
    "    s = []\n",
    "    for i in l:\n",
    "        s += step(i)\n",
    "    if s == []:\n",
    "        s= step([])\n",
    "    return s"
   ]
  },
  {
   "cell_type": "code",
   "execution_count": null,
   "id": "stone-surveillance",
   "metadata": {},
   "outputs": [],
   "source": [
    "expand (step([]))"
   ]
  },
  {
   "cell_type": "markdown",
   "id": "potential-hacker",
   "metadata": {},
   "source": [
    "Possíveis Estados"
   ]
  },
  {
   "cell_type": "code",
   "execution_count": null,
   "id": "blank-turner",
   "metadata": {},
   "outputs": [],
   "source": [
    "def combine (n):\n",
    "    if n <= 0:\n",
    "        return []\n",
    "    l = expand ([])\n",
    "    for i in range(n-1):\n",
    "        l = expand(l)\n",
    "    return l"
   ]
  },
  {
   "cell_type": "code",
   "execution_count": null,
   "id": "chubby-factor",
   "metadata": {},
   "outputs": [],
   "source": [
    "combine (3)"
   ]
  },
  {
   "cell_type": "markdown",
   "id": "organized-canon",
   "metadata": {},
   "source": [
    "Tamanho de um Estado"
   ]
  },
  {
   "cell_type": "code",
   "execution_count": null,
   "id": "complete-service",
   "metadata": {},
   "outputs": [],
   "source": [
    "def size(estado, itens):\n",
    "  return sum([estado[i]*itens[i] for i in range(len(estado))])"
   ]
  },
  {
   "cell_type": "code",
   "execution_count": null,
   "id": "devoted-tutorial",
   "metadata": {},
   "outputs": [],
   "source": [
    "size ([1, 0, 1], [1, 7, 4])"
   ]
  },
  {
   "cell_type": "markdown",
   "id": "impressed-projection",
   "metadata": {},
   "source": [
    "Estado Válido"
   ]
  },
  {
   "cell_type": "code",
   "execution_count": null,
   "id": "headed-crowd",
   "metadata": {},
   "outputs": [],
   "source": [
    "def valid(estado, itens, tMochila):\n",
    "    return size (estado, itens) <= tMochila"
   ]
  },
  {
   "cell_type": "code",
   "execution_count": null,
   "id": "proud-width",
   "metadata": {},
   "outputs": [],
   "source": [
    "valid ([1, 0, 1], [1, 7, 4], 8)"
   ]
  },
  {
   "cell_type": "markdown",
   "id": "directed-mauritius",
   "metadata": {},
   "source": [
    "Converte Estado em Solução"
   ]
  },
  {
   "cell_type": "code",
   "execution_count": null,
   "id": "local-spelling",
   "metadata": {},
   "outputs": [],
   "source": [
    "def solution(estado, itens):\n",
    "  s = []\n",
    "  for i in range(len(estado)):\n",
    "        if estado[i]:\n",
    "            s.append (itens[i])\n",
    "  return s "
   ]
  },
  {
   "cell_type": "code",
   "execution_count": null,
   "id": "desperate-infrared",
   "metadata": {},
   "outputs": [],
   "source": [
    "solution ([1, 0, 1], [1, 7, 4])"
   ]
  },
  {
   "cell_type": "markdown",
   "id": "filled-junior",
   "metadata": {},
   "source": [
    "Soluções Mochila 0/1"
   ]
  },
  {
   "cell_type": "code",
   "execution_count": null,
   "id": "cellular-application",
   "metadata": {},
   "outputs": [],
   "source": [
    "def blindSearchKnapsack01 (tMochila, itens):\n",
    "    solucoes = []\n",
    "    for s in combine (len(itens)):\n",
    "        if valid (s, itens, tMochila):\n",
    "            solucoes.append ((solution(s, itens), size (s, itens)))\n",
    "    return solucoes"
   ]
  },
  {
   "cell_type": "code",
   "execution_count": null,
   "id": "romantic-anniversary",
   "metadata": {},
   "outputs": [],
   "source": [
    "blindSearchKnapsack01 (8, [1, 7, 8])"
   ]
  },
  {
   "cell_type": "markdown",
   "id": "satisfactory-california",
   "metadata": {},
   "source": [
    "### Otimização Combinatória\n",
    "Maximizar tamanho ocupado"
   ]
  },
  {
   "cell_type": "code",
   "execution_count": null,
   "id": "rural-international",
   "metadata": {},
   "outputs": [],
   "source": [
    "def blindSearchKnapsack01Max (tMochila, itens):\n",
    "    solucoes = []\n",
    "    melhor = -1\n",
    "    for s in combine (len (itens)):\n",
    "        if valid (s, itens, tMochila):\n",
    "            t = size (s, itens)\n",
    "            if t == melhor:\n",
    "                solucoes.append ((solution(s, itens), t))\n",
    "            if t > melhor:\n",
    "                melhor = t\n",
    "                solucoes = [(solution(s, itens), t)]\n",
    "    return solucoes"
   ]
  },
  {
   "cell_type": "code",
   "execution_count": null,
   "id": "plastic-demographic",
   "metadata": {},
   "outputs": [],
   "source": [
    "blindSearchKnapsack01Max (8, [1, 7, 4])"
   ]
  },
  {
   "cell_type": "code",
   "execution_count": null,
   "id": "differential-respect",
   "metadata": {},
   "outputs": [],
   "source": [
    "blindSearchKnapsack01Max (8, [1, 7, 8])"
   ]
  }
 ],
 "metadata": {
  "kernelspec": {
   "display_name": "Python 3 (ipykernel)",
   "language": "python",
   "name": "python3"
  },
  "language_info": {
   "codemirror_mode": {
    "name": "ipython",
    "version": 3
   },
   "file_extension": ".py",
   "mimetype": "text/x-python",
   "name": "python",
   "nbconvert_exporter": "python",
   "pygments_lexer": "ipython3",
   "version": "3.10.12"
  }
 },
 "nbformat": 4,
 "nbformat_minor": 5
}
