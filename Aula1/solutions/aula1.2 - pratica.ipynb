{
 "cells": [
  {
   "cell_type": "markdown",
   "metadata": {},
   "source": [
    "1. O que acontecerá na execução dos algoritmos apresentados para a solução do problema da Mochila 0/1 se o número de itens crescer de forma demasiada? Por que isso ocorre? Tente aumentar gradualmente o número de itens e verifique o que ocorre. Relate.\n"
   ]
  },
  {
   "cell_type": "markdown",
   "metadata": {},
   "source": [
    "A complexidade é $O(2^n)$, então o tempo de execução cresce exponencialmente com o número de itens, pois a fase de `expand` gera 2 estados (0 e 1) para cada item atual, e é chamada recursivamente para cada um desses estados. Isso faz com que o tempo de execução cresça exponencialmente com o número de itens, tornando o algoritmo impraticável para um número grande de itens."
   ]
  },
  {
   "cell_type": "code",
   "execution_count": 9,
   "metadata": {},
   "outputs": [],
   "source": [
    "type State = list[int]\n",
    "\n",
    "def step(state: State) -> list[State]:\n",
    "    \"\"\"Perform one step of searching, splitting states into all their possible states.\n",
    "\n",
    "    Complexity is $O(1)$ as we are just iterating over a fixed number of states.\"\"\"\n",
    "    POSSIBLE_STATES = range(2)\n",
    "    return [state + [i] for i in POSSIBLE_STATES]\n",
    "\n",
    "def expand(states: list[State]) -> list[State]:\n",
    "    \"\"\"Expand into all possible next (1 distance) states.\n",
    "\n",
    "    Complexity is $O(n)$ where $n$ is len(states).\"\"\"\n",
    "    if not states:\n",
    "        return step([])\n",
    "    return [s for state in states for s in step(state)]\n",
    "\n",
    "def combine(size: int) -> list[State]:\n",
    "    \"\"\"Combine all possible states of a given size.\n",
    "\n",
    "    Complexity is $O(2^len(size))$ as we are generating all possible states.\"\"\"\n",
    "    states = []\n",
    "    for _ in range(size):\n",
    "        states = expand(states)\n",
    "    return states\n",
    "\n",
    "def size(state: State, weights: list[int]) -> int:\n",
    "    \"\"\"Calculate the size of a state.\n",
    "\n",
    "    Complexity is $O(n)$ where $n$ is len(state).\"\"\"\n",
    "    return sum([state[i] * weights[i] for i in range(len(state))])\n",
    "\n",
    "def valid(state: State, weights: list[int], limit: int) -> bool:\n",
    "    \"\"\"Check if a state is valid.\n",
    "\n",
    "    Complexity is same as [`size`].\"\"\"\n",
    "    return size(state, weights) <= limit\n",
    "\n",
    "def solution(state: State, weights: list[int]) -> list[int]:\n",
    "    \"\"\"Returns all sizes that are in the solution.\n",
    "\n",
    "    Complexity is $O(n)$ where $n$ is `len(state)`.\"\"\"\n",
    "    return [state[i] * weights[i] for i in range(len(state)) if state[i] > 0]\n",
    "\n",
    "def blindSearchKnapsack01(\n",
    "    knapsack_size: int, weights: list[int]\n",
    ") -> list[tuple[State, int]]:\n",
    "    \"\"\"Blind search for the knapsack problem.\n",
    "\n",
    "    Complexity is $O(2^n)$ where $n$ is `len(weights)`.\"\"\"\n",
    "    return [\n",
    "        (solution(state, weights), size(state, weights))\n",
    "        for state in combine(len(weights))\n",
    "        if valid(state, weights, knapsack_size)\n",
    "    ]\n",
    "\n",
    "%reload_ext ipython_unittest"
   ]
  },
  {
   "cell_type": "code",
   "execution_count": 10,
   "metadata": {},
   "outputs": [
    {
     "data": {
      "application/unittest.status+json": {
       "color": "yellow",
       "message": "",
       "previous": 0
      },
      "text/plain": []
     },
     "metadata": {},
     "output_type": "display_data"
    },
    {
     "data": {
      "application/unittest.status+json": {
       "color": "lightgreen",
       "message": "..\n----------------------------------------------------------------------\nRan 2 tests in 0.000s\n\nOK\n",
       "previous": 0
      },
      "text/plain": [
       "Success"
      ]
     },
     "metadata": {},
     "output_type": "display_data"
    },
    {
     "name": "stdout",
     "output_type": "stream",
     "text": [
      "..\n",
      "----------------------------------------------------------------------\n",
      "Ran 2 tests in 0.000s\n",
      "\n",
      "OK\n"
     ]
    },
    {
     "data": {
      "text/plain": [
       "<unittest.runner.TextTestResult run=2 errors=0 failures=0>"
      ]
     },
     "execution_count": 10,
     "metadata": {},
     "output_type": "execute_result"
    }
   ],
   "source": [
    "%%unittest\n",
    "\n",
    "assert blindSearchKnapsack01(3, [1, 7, 8]) == [([], 0), ([1], 1)]\n",
    "assert blindSearchKnapsack01(8, [1, 7, 8]) == [([], 0), ([8], 8), ([7], 7), ([1], 1), ([1, 7], 8)]"
   ]
  },
  {
   "cell_type": "code",
   "execution_count": 11,
   "metadata": {},
   "outputs": [
    {
     "name": "stdout",
     "output_type": "stream",
     "text": [
      "Execution time for size 3:\t0.06ms\n",
      "Execution time for size 10:\t1.06ms\n",
      "Execution time for size 15:\t71.04ms\n",
      "Execution time for size 20:\t2313.03ms\n"
     ]
    }
   ],
   "source": [
    "import time, random\n",
    "\n",
    "random_item_size = lambda: random.randint(1, 15)\n",
    "\n",
    "start = time.time()\n",
    "blindSearchKnapsack01(8, [random_item_size() for _ in range(3)])\n",
    "time_taken = time.time() - start\n",
    "print(f\"Execution time for size 3:\\t{time_taken * 1000:.2f}ms\")\n",
    "\n",
    "start = time.time()\n",
    "blindSearchKnapsack01(25, [random_item_size() for _ in range(10)])\n",
    "time_taken = time.time() - start\n",
    "print(f\"Execution time for size 10:\\t{time_taken * 1000:.2f}ms\")\n",
    "\n",
    "start = time.time()\n",
    "blindSearchKnapsack01(37, [random_item_size() for _ in range(15)])\n",
    "time_taken = time.time() - start\n",
    "print(f\"Execution time for size 15:\\t{time_taken * 1000:.2f}ms\")\n",
    "\n",
    "start = time.time()\n",
    "blindSearchKnapsack01(37, [random_item_size() for _ in range(20)])\n",
    "time_taken = time.time() - start\n",
    "print(f\"Execution time for size 20:\\t{time_taken * 1000:.2f}ms\")"
   ]
  },
  {
   "cell_type": "markdown",
   "metadata": {},
   "source": [
    "2. Considere que no problema da mochila 0/1 cada um dos itens disponíveis tem um valor e que o objetivo é encher a mochila para maximizar o valor agregado dos ítens colocados na mochila. Refaça a solução em python apresentada anteriormente para resolver este problema.\n"
   ]
  },
  {
   "cell_type": "code",
   "execution_count": 12,
   "metadata": {},
   "outputs": [],
   "source": [
    "def blindSearchKnapsack01Max(\n",
    "    knapsack_size: int, weights: list[int]\n",
    ") -> list[tuple[State, int]]:\n",
    "    \"\"\"Blind search for the knapsack problem, returning the maximum size.\n",
    "    \n",
    "    Complexity is $O(2^n)$ where $n$ is `len(weights)`.\"\"\"\n",
    "    all_solutions = blindSearchKnapsack01(knapsack_size, weights)\n",
    "    max_sieve = max(all_solutions, key=lambda x: x[1])[1]\n",
    "    filter_func = lambda x: x[1] == max_sieve\n",
    "    return list(filter(filter_func, all_solutions))"
   ]
  },
  {
   "cell_type": "code",
   "execution_count": 13,
   "metadata": {},
   "outputs": [
    {
     "data": {
      "application/unittest.status+json": {
       "color": "yellow",
       "message": "",
       "previous": 0
      },
      "text/plain": []
     },
     "metadata": {},
     "output_type": "display_data"
    },
    {
     "data": {
      "application/unittest.status+json": {
       "color": "lightgreen",
       "message": "..\n----------------------------------------------------------------------\nRan 2 tests in 0.000s\n\nOK\n",
       "previous": 0
      },
      "text/plain": [
       "Success"
      ]
     },
     "metadata": {},
     "output_type": "display_data"
    },
    {
     "name": "stdout",
     "output_type": "stream",
     "text": [
      "..\n",
      "----------------------------------------------------------------------\n",
      "Ran 2 tests in 0.000s\n",
      "\n",
      "OK\n"
     ]
    },
    {
     "data": {
      "text/plain": [
       "<unittest.runner.TextTestResult run=2 errors=0 failures=0>"
      ]
     },
     "execution_count": 13,
     "metadata": {},
     "output_type": "execute_result"
    }
   ],
   "source": [
    "%%unittest\n",
    "\n",
    "assert blindSearchKnapsack01Max(8, [1, 7, 4]) == [([1, 7], 8)]\n",
    "assert blindSearchKnapsack01Max(8, [1, 7, 8]) == [([8], 8), ([1, 7], 8)]"
   ]
  },
  {
   "cell_type": "markdown",
   "metadata": {},
   "source": [
    "3. Implemente o algoritmo de agrupamento hierárquico divisivo para dados unidimensionais.\n"
   ]
  },
  {
   "cell_type": "code",
   "execution_count": 32,
   "metadata": {},
   "outputs": [],
   "source": [
    "import numpy as np\n",
    "\n",
    "type Cluster = np.ndarray\n",
    "\n",
    "def hierarchical_clustering(\n",
    "    elements: Cluster, k: int\n",
    ") -> list[Cluster]:\n",
    "    \"\"\"Splits the elements hierarchically into k clusters.\"\"\"\n",
    "    clusters = [sorted(elements)]\n",
    "    while len(clusters) < k:\n",
    "        # print(f\"Clusters: {clusters}\")\n",
    "        # Pick the one with highest variance to split\n",
    "        cluster = max(clusters, key=lambda x: np.var(x))\n",
    "        # Split it into two\n",
    "        clusters.remove(cluster)\n",
    "        clusters.extend(np.array_split(cluster, 2))\n",
    "    return clusters"
   ]
  },
  {
   "cell_type": "code",
   "execution_count": 45,
   "metadata": {},
   "outputs": [
    {
     "data": {
      "application/unittest.status+json": {
       "color": "yellow",
       "message": "",
       "previous": 0
      },
      "text/plain": []
     },
     "metadata": {},
     "output_type": "display_data"
    },
    {
     "data": {
      "application/unittest.status+json": {
       "color": "lightgreen",
       "message": ".\n----------------------------------------------------------------------\nRan 1 test in 0.000s\n\nOK\n",
       "previous": 0
      },
      "text/plain": [
       "Success"
      ]
     },
     "metadata": {},
     "output_type": "display_data"
    },
    {
     "name": "stdout",
     "output_type": "stream",
     "text": [
      ".\n",
      "----------------------------------------------------------------------\n",
      "Ran 1 test in 0.000s\n",
      "\n",
      "OK\n"
     ]
    },
    {
     "data": {
      "text/plain": [
       "<unittest.runner.TextTestResult run=1 errors=0 failures=0>"
      ]
     },
     "execution_count": 45,
     "metadata": {},
     "output_type": "execute_result"
    }
   ],
   "source": [
    "%%unittest\n",
    "\n",
    "data = np.array([1, 9, 2, 4, 5, 5, 8, 8, 9, 1, 5])\n",
    "clusters = sorted(hierarchical_clustering(data, 3), key=lambda x: x[0])\n",
    "cluster_lists = [list(cluster) for cluster in clusters]\n",
    "assert cluster_lists == [[1,1,2], [4,5,5], [5,8,8,9,9]]"
   ]
  },
  {
   "cell_type": "markdown",
   "metadata": {},
   "source": [
    "4. Altere o algoritmo de agrupamento hierárquico divisivo para considerar dados multidimensionais numéricos. Indique o que necessita ser feito para aplicar o algoritmo da questão 10 aqui. Qual a maior dificuldade para isso? Proponha uma solução para contornar essa dificuldade. Indique casos em que essa solução pode\n",
    "não ser satisfatória. Implemente a sua solução."
   ]
  },
  {
   "cell_type": "markdown",
   "metadata": {},
   "source": [
    "Precisamos considerar números em conjuntos, ao invés de números isolados. Ou seja, toda comparação deve ser feita com conjuntos de números ao invés de números separados.\n",
    "\n",
    "A maior dificuldade seria de definir uma função de distância adequada, por exemplo a distância Euclidiana. Uma solução para contornar essa dificuldade seria considerar somente o maior valor de cada conjunto, ou seja, a distância entre dois conjuntos seria a distância entre o maior valor de cada conjunto. Isso pode não ser satisfatório quando os conjuntos são muito diferentes, pois a distância entre os maiores valores pode não ser representativa da distância entre os elementos do mesmo conjunto, mas isso é dependente do domínio do problema.\n",
    "\n",
    "Exemplo: $\\{\\{1, 2, 3\\}, \\{4, 5, 6\\}, \\{7, 8, 9\\}\\}$ seria considerado como $\\{3, 6, 9\\}$."
   ]
  },
  {
   "cell_type": "code",
   "execution_count": 46,
   "metadata": {},
   "outputs": [],
   "source": [
    "type Cluster = np.ndarray[np.ndarray]\n",
    "\n",
    "# TODO\n",
    "\n",
    "def hierarchical_clustering_multidimensional(\n",
    "    elements: Cluster, k: int\n",
    ") -> list[Cluster]:\n",
    "    \"\"\"Splits the elements hierarchically into k clusters.\"\"\"\n",
    "    clusters = [sorted(elements)]\n",
    "    while len(clusters) < k:\n",
    "        # print(f\"Clusters: {clusters}\")\n",
    "        # Pick the one with highest variance to split\n",
    "        cluster = max(clusters, key=lambda x: np.var(x))\n",
    "        # Split it into two\n",
    "        clusters.remove(cluster)\n",
    "        clusters.extend(np.array_split(cluster, 2))\n",
    "    return clusters"
   ]
  },
  {
   "cell_type": "code",
   "execution_count": 48,
   "metadata": {},
   "outputs": [
    {
     "data": {
      "application/unittest.status+json": {
       "color": "yellow",
       "message": "",
       "previous": 0
      },
      "text/plain": []
     },
     "metadata": {},
     "output_type": "display_data"
    },
    {
     "data": {
      "application/unittest.status+json": {
       "color": "lightgreen",
       "message": ".\n----------------------------------------------------------------------\nRan 1 test in 0.000s\n\nOK\n",
       "previous": 0
      },
      "text/plain": [
       "Success"
      ]
     },
     "metadata": {},
     "output_type": "display_data"
    },
    {
     "name": "stdout",
     "output_type": "stream",
     "text": [
      ".\n",
      "----------------------------------------------------------------------\n",
      "Ran 1 test in 0.000s\n",
      "\n",
      "OK\n"
     ]
    },
    {
     "data": {
      "text/plain": [
       "<unittest.runner.TextTestResult run=1 errors=0 failures=0>"
      ]
     },
     "execution_count": 48,
     "metadata": {},
     "output_type": "execute_result"
    }
   ],
   "source": [
    "%%unittest\n",
    "\n",
    "data = np.array([1, 9, 2, 4, 5, 5, 8, 8, 9, 1, 5])\n",
    "clusters = sorted(hierarchical_clustering_multidimensional(data, 3), key=lambda x: x[0])\n",
    "cluster_lists = [list(cluster) for cluster in clusters]\n",
    "assert cluster_lists == [[1,1,2], [4,5,5], [5,8,8,9,9]]\n",
    "\n",
    "data = np.array([[1, 3], 9, 2, 4, 5, 5, 8, 8, 9, 1, 5])\n",
    "clusters = sorted(hierarchical_clustering_multidimensional(data, 3), key=lambda x: x[0])\n",
    "cluster_lists = [list(cluster) for cluster in clusters]\n",
    "assert cluster_lists == [[1,1,2], [4,5,5], [5,8,8,9,9]]"
   ]
  }
 ],
 "metadata": {
  "kernelspec": {
   "display_name": "aula1-B5-zSObo-py3.13",
   "language": "python",
   "name": "python3"
  },
  "language_info": {
   "codemirror_mode": {
    "name": "ipython",
    "version": 3
   },
   "file_extension": ".py",
   "mimetype": "text/x-python",
   "name": "python",
   "nbconvert_exporter": "python",
   "pygments_lexer": "ipython3",
   "version": "3.13.0a4"
  }
 },
 "nbformat": 4,
 "nbformat_minor": 2
}
