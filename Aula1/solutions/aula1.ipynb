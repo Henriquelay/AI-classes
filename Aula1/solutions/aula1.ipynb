{
 "cells": [
  {
   "cell_type": "code",
   "execution_count": 501,
   "metadata": {},
   "outputs": [],
   "source": [
    "%reload_ext ipython_unittest"
   ]
  },
  {
   "cell_type": "code",
   "execution_count": 502,
   "metadata": {},
   "outputs": [],
   "source": [
    "# Types definitions\n",
    "type State = list[int]"
   ]
  },
  {
   "cell_type": "markdown",
   "metadata": {},
   "source": [
    "1) Definir a função step para mudar um descritor de estado adicionando um novo valor ao estado corrente.\n",
    "Exemplos: \n",
    "```python\n",
    "step ([]) => [[0],[1]]\n",
    "step ([1,0,1]) => [[1,0,1,0], [1,0,1,1]]\n",
    "```\n"
   ]
  },
  {
   "cell_type": "code",
   "execution_count": 503,
   "metadata": {},
   "outputs": [],
   "source": [
    "def step(state: State) -> list[State]:\n",
    "    \"\"\"Perform one step of searching, splitting states into all their possible states\"\"\"\n",
    "    POSSIBLE_STATES = range(2)\n",
    "    return [state + [i] for i in POSSIBLE_STATES]"
   ]
  },
  {
   "cell_type": "code",
   "execution_count": 504,
   "metadata": {},
   "outputs": [
    {
     "data": {
      "application/unittest.status+json": {
       "color": "yellow",
       "message": "",
       "previous": 0
      },
      "text/plain": []
     },
     "metadata": {},
     "output_type": "display_data"
    },
    {
     "data": {
      "application/unittest.status+json": {
       "color": "lightgreen",
       "message": "...\n----------------------------------------------------------------------\nRan 3 tests in 0.000s\n\nOK\n",
       "previous": 0
      },
      "text/plain": [
       "Success"
      ]
     },
     "metadata": {},
     "output_type": "display_data"
    },
    {
     "name": "stdout",
     "output_type": "stream",
     "text": [
      "...\n",
      "----------------------------------------------------------------------\n",
      "Ran 3 tests in 0.000s\n",
      "\n",
      "OK\n"
     ]
    },
    {
     "data": {
      "text/plain": [
       "<unittest.runner.TextTestResult run=3 errors=0 failures=0>"
      ]
     },
     "execution_count": 504,
     "metadata": {},
     "output_type": "execute_result"
    }
   ],
   "source": [
    "%%unittest\n",
    "\n",
    "assert step([]) == [[0], [1]]\n",
    "assert step([0]) == [[0, 0], [0, 1]]\n",
    "assert step([1]) == [[1, 0], [1, 1]]"
   ]
  },
  {
   "cell_type": "markdown",
   "metadata": {},
   "source": [
    "2) Definir a função expand que receba uma lista de estados e expanda cada um deles usando a função step definida no \n",
    "item 1.\n",
    "Exemplos:  \n",
    "```python\n",
    "expand ([]) => [[0],[1]]\n",
    "expand ([[0],[1]]) => [[0, 0], [0, 1], [1, 0], [1, 1]]\n",
    "expand ([[1,0,1]]) => [[1,0,1,0], [1,0,1,1]]\n",
    "```\n"
   ]
  },
  {
   "cell_type": "code",
   "execution_count": 505,
   "metadata": {},
   "outputs": [],
   "source": [
    "def expand(states: list[State]) -> list[State]:\n",
    "    \"\"\"Expand into all possible next (1 distance) states\"\"\"\n",
    "    if not states:\n",
    "        return step([])\n",
    "    return [s for state in states for s in step(state)]"
   ]
  },
  {
   "cell_type": "code",
   "execution_count": 506,
   "metadata": {},
   "outputs": [
    {
     "data": {
      "application/unittest.status+json": {
       "color": "yellow",
       "message": "",
       "previous": 0
      },
      "text/plain": []
     },
     "metadata": {},
     "output_type": "display_data"
    },
    {
     "data": {
      "application/unittest.status+json": {
       "color": "lightgreen",
       "message": "....\n----------------------------------------------------------------------\nRan 4 tests in 0.000s\n\nOK\n",
       "previous": 0
      },
      "text/plain": [
       "Success"
      ]
     },
     "metadata": {},
     "output_type": "display_data"
    },
    {
     "name": "stdout",
     "output_type": "stream",
     "text": [
      "....\n",
      "----------------------------------------------------------------------\n",
      "Ran 4 tests in 0.000s\n",
      "\n",
      "OK\n"
     ]
    },
    {
     "data": {
      "text/plain": [
       "<unittest.runner.TextTestResult run=4 errors=0 failures=0>"
      ]
     },
     "execution_count": 506,
     "metadata": {},
     "output_type": "execute_result"
    }
   ],
   "source": [
    "%%unittest\n",
    "\n",
    "assert expand([]) == [[0], [1]]\n",
    "assert expand([[0]]) == [[0, 0], [0, 1]]\n",
    "assert expand([[0], [1]]) == [[0, 0], [0, 1], [1, 0], [1, 1]]\n",
    "assert expand([[1, 0, 1]]) == [[1,0,1,0], [1,0,1,1]]"
   ]
  },
  {
   "cell_type": "markdown",
   "metadata": {},
   "source": [
    "3) Definir a função combine que receba um tamanho de estado e retorne todas as possíveis configurações de estados.\n",
    "```python\n",
    "combine (0) => []\n",
    "combine (1) => [[0], [1]]\n",
    "combine (2) => [[0, 0], [0, 1], [1, 0], [1, 1]]\n",
    "combine (3) => [[0, 0, 0], [0, 0, 1], [0, 1, 0], [0, 1, 1], [1, 0, 0], [1, 0, 1],  [1, 1, 0], [1, 1, 1]]\n",
    "```\n"
   ]
  },
  {
   "cell_type": "code",
   "execution_count": 507,
   "metadata": {},
   "outputs": [],
   "source": [
    "def combine(size: int) -> list[State]:\n",
    "    \"\"\" Combine all possible states of a given size \"\"\"\n",
    "    states = []\n",
    "    for _ in range(size):\n",
    "        states = expand(states)\n",
    "    return states"
   ]
  },
  {
   "cell_type": "code",
   "execution_count": 508,
   "metadata": {},
   "outputs": [
    {
     "data": {
      "application/unittest.status+json": {
       "color": "yellow",
       "message": "",
       "previous": 0
      },
      "text/plain": []
     },
     "metadata": {},
     "output_type": "display_data"
    },
    {
     "data": {
      "application/unittest.status+json": {
       "color": "lightgreen",
       "message": "....\n----------------------------------------------------------------------\nRan 4 tests in 0.000s\n\nOK\n",
       "previous": 0
      },
      "text/plain": [
       "Success"
      ]
     },
     "metadata": {},
     "output_type": "display_data"
    },
    {
     "name": "stdout",
     "output_type": "stream",
     "text": [
      "....\n",
      "----------------------------------------------------------------------\n",
      "Ran 4 tests in 0.000s\n",
      "\n",
      "OK\n"
     ]
    },
    {
     "data": {
      "text/plain": [
       "<unittest.runner.TextTestResult run=4 errors=0 failures=0>"
      ]
     },
     "execution_count": 508,
     "metadata": {},
     "output_type": "execute_result"
    }
   ],
   "source": [
    "%%unittest\n",
    "\n",
    "assert combine(0) == []\n",
    "assert combine(1) == [[0], [1]]\n",
    "assert combine(2) == [[0, 0], [0, 1], [1, 0], [1, 1]]\n",
    "assert combine(3) == [[0, 0, 0], [0, 0, 1], [0, 1, 0], [0, 1, 1], [1, 0, 0], [1, 0, 1],  [1, 1, 0], [1, 1, 1]]"
   ]
  },
  {
   "cell_type": "markdown",
   "metadata": {},
   "source": [
    "4) Definir a função size que recebe um estado e uma lista de tamanhos de itens e determina o tamanho total ocupado \n",
    "pelo estado.\n",
    "```python\n",
    "size ([],[]) => 0\n",
    "size ([0, 0, 0], [1, 7, 4]) => 0\n",
    "size ([1, 0, 1], [1, 7, 4]) => 5\n",
    "size ([1, 1, 1], [1, 7, 4]) => 12\n",
    "```\n"
   ]
  },
  {
   "cell_type": "code",
   "execution_count": 509,
   "metadata": {},
   "outputs": [],
   "source": [
    "def size(state: State, weights: list[int]) -> int:\n",
    "    \"\"\" Calculate the size of a state \"\"\"\n",
    "    return sum([state[i] * weights[i] for i in range(len(state))])"
   ]
  },
  {
   "cell_type": "code",
   "execution_count": 510,
   "metadata": {},
   "outputs": [
    {
     "data": {
      "application/unittest.status+json": {
       "color": "yellow",
       "message": "",
       "previous": 0
      },
      "text/plain": []
     },
     "metadata": {},
     "output_type": "display_data"
    },
    {
     "data": {
      "application/unittest.status+json": {
       "color": "lightgreen",
       "message": "....\n----------------------------------------------------------------------\nRan 4 tests in 0.000s\n\nOK\n",
       "previous": 0
      },
      "text/plain": [
       "Success"
      ]
     },
     "metadata": {},
     "output_type": "display_data"
    },
    {
     "name": "stdout",
     "output_type": "stream",
     "text": [
      "....\n",
      "----------------------------------------------------------------------\n",
      "Ran 4 tests in 0.000s\n",
      "\n",
      "OK\n"
     ]
    },
    {
     "data": {
      "text/plain": [
       "<unittest.runner.TextTestResult run=4 errors=0 failures=0>"
      ]
     },
     "execution_count": 510,
     "metadata": {},
     "output_type": "execute_result"
    }
   ],
   "source": [
    "%%unittest\n",
    "\n",
    "assert size([],[]) == 0\n",
    "assert size([0, 0, 0], [1, 7, 4]) == 0\n",
    "assert size([1, 0, 1], [1, 7, 4]) == 5\n",
    "assert size([1, 1, 1], [1, 7, 4]) == 12"
   ]
  },
  {
   "cell_type": "markdown",
   "metadata": {},
   "source": [
    "5) Definir a função size que recebe um estado, uma lista de tamanhos de itens e o tamanho da mochila e determina o \n",
    "estado é válido, isto é, se seu tamanho é menor ou igual ao tamanho da mochila.\n",
    "```python\n",
    "valid ([1, 0, 1], [1, 7, 4], 8) => True\n",
    "valid ([1, 0, 1], [1, 7, 4], 2) => False\n",
    "```\n"
   ]
  },
  {
   "cell_type": "code",
   "execution_count": 511,
   "metadata": {},
   "outputs": [],
   "source": [
    "def valid(state: State, weights: list[int], limit: int) -> bool:\n",
    "    \"\"\"Check if a state is valid\"\"\"\n",
    "    return size(state, weights) <= limit"
   ]
  },
  {
   "cell_type": "code",
   "execution_count": 512,
   "metadata": {},
   "outputs": [
    {
     "data": {
      "application/unittest.status+json": {
       "color": "yellow",
       "message": "",
       "previous": 0
      },
      "text/plain": []
     },
     "metadata": {},
     "output_type": "display_data"
    },
    {
     "data": {
      "application/unittest.status+json": {
       "color": "lightgreen",
       "message": "..\n----------------------------------------------------------------------\nRan 2 tests in 0.000s\n\nOK\n",
       "previous": 0
      },
      "text/plain": [
       "Success"
      ]
     },
     "metadata": {},
     "output_type": "display_data"
    },
    {
     "name": "stdout",
     "output_type": "stream",
     "text": [
      "..\n",
      "----------------------------------------------------------------------\n",
      "Ran 2 tests in 0.000s\n",
      "\n",
      "OK\n"
     ]
    },
    {
     "data": {
      "text/plain": [
       "<unittest.runner.TextTestResult run=2 errors=0 failures=0>"
      ]
     },
     "execution_count": 512,
     "metadata": {},
     "output_type": "execute_result"
    }
   ],
   "source": [
    "%%unittest\n",
    "\n",
    "assert valid([1, 0, 1], [1, 7, 4], 8) == True\n",
    "assert valid([1, 0, 1], [1, 7, 4], 2) == False"
   ]
  },
  {
   "cell_type": "markdown",
   "metadata": {},
   "source": [
    "6) Definir a função solution que recebe um estado e uma lista de tamanhos de itens e retorna uma lista de tamanhos de \n",
    "itens que compõem o estado.\n",
    "```python\n",
    "solution ([0, 0, 0], [1, 7, 4])=> []\n",
    "solution ([0, 0, 1], [1, 7, 4])=> [4]\n",
    "solution ([1, 0, 1], [1, 7, 4])=> [1,4]\n",
    "```\n"
   ]
  },
  {
   "cell_type": "code",
   "execution_count": 513,
   "metadata": {},
   "outputs": [],
   "source": [
    "def solution(state: State, weights: list[int]) -> list[int]:\n",
    "    \"\"\"Returns all sizes that are in the solution\"\"\"\n",
    "    return [state[i] * weights[i] for i in range(len(state)) if state[i] > 0]"
   ]
  },
  {
   "cell_type": "code",
   "execution_count": 514,
   "metadata": {},
   "outputs": [
    {
     "data": {
      "application/unittest.status+json": {
       "color": "yellow",
       "message": "",
       "previous": 0
      },
      "text/plain": []
     },
     "metadata": {},
     "output_type": "display_data"
    },
    {
     "data": {
      "application/unittest.status+json": {
       "color": "lightgreen",
       "message": "...\n----------------------------------------------------------------------\nRan 3 tests in 0.000s\n\nOK\n",
       "previous": 0
      },
      "text/plain": [
       "Success"
      ]
     },
     "metadata": {},
     "output_type": "display_data"
    },
    {
     "name": "stdout",
     "output_type": "stream",
     "text": [
      "...\n",
      "----------------------------------------------------------------------\n",
      "Ran 3 tests in 0.000s\n",
      "\n",
      "OK\n"
     ]
    },
    {
     "data": {
      "text/plain": [
       "<unittest.runner.TextTestResult run=3 errors=0 failures=0>"
      ]
     },
     "execution_count": 514,
     "metadata": {},
     "output_type": "execute_result"
    }
   ],
   "source": [
    "%%unittest\n",
    "\n",
    "assert solution([0, 0, 0], [1, 7, 4]) == []\n",
    "assert solution([0, 0, 1], [1, 7, 4]) == [4]\n",
    "assert solution([1, 0, 1], [1, 7, 4]) == [1,4]"
   ]
  },
  {
   "cell_type": "markdown",
   "metadata": {},
   "source": [
    "7) Definir a função blindSearchKnapsack01 que recebe o tamanho da mochila e uma lista de tamanhos de itens e \n",
    "retorna uma lista de tuplas contendo todas soluções válidas e seus respectivos tamanhos.\n",
    "```python\n",
    "blindSearchKnapsack01 (3, [1, 7, 8])=> [([], 0), ([1], 1)]\n",
    "blindSearchKnapsack01 (8, [1, 7, 8])=> [([], 0), ([8], 8), ([7], 7), ([1], 1), ([1, 7], 8)]\n",
    "```\n"
   ]
  },
  {
   "cell_type": "code",
   "execution_count": 515,
   "metadata": {},
   "outputs": [],
   "source": [
    "def blindSearchKnapsack01(\n",
    "    knapsack_size: int, weights: list[int]\n",
    ") -> list[tuple[State, int]]:\n",
    "    \"\"\"Blind search for the knapsack problem\"\"\"\n",
    "    return [\n",
    "        (solution(state, weights), size(state, weights))\n",
    "        for state in combine(len(weights))\n",
    "        if valid(state, weights, knapsack_size)\n",
    "    ]"
   ]
  },
  {
   "cell_type": "code",
   "execution_count": 516,
   "metadata": {},
   "outputs": [
    {
     "data": {
      "application/unittest.status+json": {
       "color": "yellow",
       "message": "",
       "previous": 0
      },
      "text/plain": []
     },
     "metadata": {},
     "output_type": "display_data"
    },
    {
     "data": {
      "application/unittest.status+json": {
       "color": "lightgreen",
       "message": "..\n----------------------------------------------------------------------\nRan 2 tests in 0.000s\n\nOK\n",
       "previous": 0
      },
      "text/plain": [
       "Success"
      ]
     },
     "metadata": {},
     "output_type": "display_data"
    },
    {
     "name": "stdout",
     "output_type": "stream",
     "text": [
      "..\n",
      "----------------------------------------------------------------------\n",
      "Ran 2 tests in 0.000s\n",
      "\n",
      "OK\n"
     ]
    },
    {
     "data": {
      "text/plain": [
       "<unittest.runner.TextTestResult run=2 errors=0 failures=0>"
      ]
     },
     "execution_count": 516,
     "metadata": {},
     "output_type": "execute_result"
    }
   ],
   "source": [
    "%%unittest\n",
    "\n",
    "assert blindSearchKnapsack01(3, [1, 7, 8]) == [([], 0), ([1], 1)]\n",
    "assert blindSearchKnapsack01(8, [1, 7, 8]) == [([], 0), ([8], 8), ([7], 7), ([1], 1), ([1, 7], 8)]"
   ]
  },
  {
   "cell_type": "markdown",
   "metadata": {},
   "source": [
    "8) Definir a função blindSearchKnapsack01Max que recebe o tamanho da mochila e uma lista de tamanhos de itens e \n",
    "retorna uma lista de tuplas contendo todas soluções que maximizam o tamanho ocupado das mochilas e seus respectivos\n",
    "tamanhos.\n",
    "```python\n",
    "blindSearchKnapsack01Max (8, [1, 7, 4]) => [([1, 7], 8)]\n",
    "blindSearchKnapsack01Max (8, [1, 7, 8]) => [([8], 8), ([1, 7], 8)]\n",
    "```"
   ]
  },
  {
   "cell_type": "code",
   "execution_count": 517,
   "metadata": {},
   "outputs": [],
   "source": [
    "def blindSearchKnapsack01Max(\n",
    "    knapsack_size: int, weights: list[int]\n",
    ") -> list[tuple[State, int]]:\n",
    "    \"\"\"Blind search for the knapsack problem, returning the maximum size\"\"\"\n",
    "    all_solutions = blindSearchKnapsack01(knapsack_size, weights)\n",
    "    max_sieve = max(all_solutions, key=lambda x: x[1])[1]\n",
    "    filter_func = lambda x: x[1] == max_sieve\n",
    "    return list(filter(filter_func, all_solutions))"
   ]
  },
  {
   "cell_type": "code",
   "execution_count": 518,
   "metadata": {},
   "outputs": [
    {
     "data": {
      "application/unittest.status+json": {
       "color": "yellow",
       "message": "",
       "previous": 0
      },
      "text/plain": []
     },
     "metadata": {},
     "output_type": "display_data"
    },
    {
     "data": {
      "application/unittest.status+json": {
       "color": "lightgreen",
       "message": "..\n----------------------------------------------------------------------\nRan 2 tests in 0.000s\n\nOK\n",
       "previous": 0
      },
      "text/plain": [
       "Success"
      ]
     },
     "metadata": {},
     "output_type": "display_data"
    },
    {
     "name": "stdout",
     "output_type": "stream",
     "text": [
      "..\n",
      "----------------------------------------------------------------------\n",
      "Ran 2 tests in 0.000s\n",
      "\n",
      "OK\n"
     ]
    },
    {
     "data": {
      "text/plain": [
       "<unittest.runner.TextTestResult run=2 errors=0 failures=0>"
      ]
     },
     "execution_count": 518,
     "metadata": {},
     "output_type": "execute_result"
    }
   ],
   "source": [
    "%%unittest\n",
    "\n",
    "assert blindSearchKnapsack01Max(8, [1, 7, 4]) == [([1, 7], 8)]\n",
    "assert blindSearchKnapsack01Max(8, [1, 7, 8]) == [([8], 8), ([1, 7], 8)]"
   ]
  }
 ],
 "metadata": {
  "kernelspec": {
   "display_name": "aula1-B5-zSObo-py3.13",
   "language": "python",
   "name": "python3"
  },
  "language_info": {
   "codemirror_mode": {
    "name": "ipython",
    "version": 3
   },
   "file_extension": ".py",
   "mimetype": "text/x-python",
   "name": "python",
   "nbconvert_exporter": "python",
   "pygments_lexer": "ipython3",
   "version": "3.13.0a4"
  }
 },
 "nbformat": 4,
 "nbformat_minor": 2
}
