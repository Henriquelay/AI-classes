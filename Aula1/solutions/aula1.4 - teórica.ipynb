{
 "cells": [
  {
   "cell_type": "markdown",
   "metadata": {},
   "source": [
    "# 1. Apresentar suas respostas para as seguintes questões:"
   ]
  },
  {
   "cell_type": "markdown",
   "metadata": {},
   "source": [
    "## A. O que é Inteligência?\n"
   ]
  },
  {
   "cell_type": "markdown",
   "metadata": {},
   "source": [
    "Capacidade de superar obstáculos (problemas)"
   ]
  },
  {
   "cell_type": "markdown",
   "metadata": {},
   "source": [
    "## B. Inteligência é propriedade humana?\n"
   ]
  },
  {
   "cell_type": "markdown",
   "metadata": {},
   "source": [
    "Não, animais e outros organismos/sistemas também demonstram inteligência.\n",
    "\n",
    "https://biodesign.berkeley.edu/2022/02/18/brainless-slime-mold-grows-in-pattern-like-tokyos-subway-system/\n",
    "\n",
    "O nome da matéria é, afinal de contas, Inteligência Artificial, e não Inteligência Humana."
   ]
  },
  {
   "cell_type": "markdown",
   "metadata": {},
   "source": [
    "## C. Máquinas podem pensar?\n"
   ]
  },
  {
   "cell_type": "markdown",
   "metadata": {},
   "source": [
    "Sim. Associamos muitas vezes o ato de pensar à sonho e imaginação, mas também a raciocínio e lógica. Máquinas podem simular o raciocínio e a lógica, e até mesmo a criatividade."
   ]
  },
  {
   "cell_type": "markdown",
   "metadata": {},
   "source": [
    "## D. Máquinas podem aprender?\n"
   ]
  },
  {
   "cell_type": "markdown",
   "metadata": {},
   "source": [
    "Sim. Aprender pode ser categorizado como fazer sentido das informação capturadas. Ou seja, transformar de dado para informação. Mapeando essas ações para um sisteam típico, a captura de dados se dá via sensores e a transformação de dados em informação se dá via algoritmos."
   ]
  },
  {
   "cell_type": "markdown",
   "metadata": {},
   "source": [
    "# 2. Indicar quais das seguintes atividades você considera ser inteligente:\n"
   ]
  },
  {
   "cell_type": "markdown",
   "metadata": {},
   "source": [
    "## A. Matemático deduzindo teoremas;\n"
   ]
  },
  {
   "cell_type": "markdown",
   "metadata": {},
   "source": [
    "Inteligente pois o matemático usa de informação previamente sabidas para transformar mais um dado (hipótese) em informação (teorema)."
   ]
  },
  {
   "cell_type": "markdown",
   "metadata": {},
   "source": [
    "## B. Rato encontrando saída em labirinto;\n"
   ]
  },
  {
   "cell_type": "markdown",
   "metadata": {},
   "source": [
    "Inteligente pois transforma o dado que é captado pelo seus sensores espaciais e etc em informação e ainda busca um objetivo específico que é a saída do labirinto."
   ]
  },
  {
   "cell_type": "markdown",
   "metadata": {},
   "source": [
    "## C. Ser humano explicando alguma ação;\n"
   ]
  },
  {
   "cell_type": "markdown",
   "metadata": {},
   "source": [
    "Inteligente pois precisa-se saber como quebrar a sua informação gerada em dados simples para o objetivo para quem estamos explicando para poder reabsorver esses dados mais fácilmente e transformar em informação mais facilmente (dado que o explicador fez um trabalho de qualidade)."
   ]
  },
  {
   "cell_type": "markdown",
   "metadata": {},
   "source": [
    "## D. Máquina de calcular operando;\n"
   ]
  },
  {
   "cell_type": "markdown",
   "metadata": {},
   "source": [
    "A atividade de calcular operando é uma atividade inteligente dado que precisa-se saber de vários algoritmos e identificar padrões para reconhecer quando usar um ou outro algoritmo, em busca de um objetivo específico."
   ]
  },
  {
   "cell_type": "markdown",
   "metadata": {},
   "source": [
    "## E. Humano fazendo programas de computador;\n"
   ]
  },
  {
   "cell_type": "markdown",
   "metadata": {},
   "source": [
    "Inteligente. É similar ao humano explicando ação."
   ]
  },
  {
   "cell_type": "markdown",
   "metadata": {},
   "source": [
    "## F. Vírus fugindo de anticorpos;\n"
   ]
  },
  {
   "cell_type": "markdown",
   "metadata": {},
   "source": [
    "Inteligente, pois é similar ao rato encontrando a saída do labirinto, reconhece-se uma ameaça e foge do local (não indo a um local específico)"
   ]
  },
  {
   "cell_type": "markdown",
   "metadata": {},
   "source": [
    "## G. Castor construindo represa. Justifique suas respostas.\n"
   ]
  },
  {
   "cell_type": "markdown",
   "metadata": {},
   "source": [
    "Inteligente, pois o castor usou dos dados ao redor dele para formar a informação de como represar, e ainda tem um objetivo específico que é represar."
   ]
  },
  {
   "cell_type": "markdown",
   "metadata": {},
   "source": [
    "# 3. Na sua opinião existe associação entre inteligência e uso de linguagem escrita? Justifique.\n"
   ]
  },
  {
   "cell_type": "markdown",
   "metadata": {},
   "source": [
    "Sim. Linguagem escrita é a persistência da informação. Quando escrevemos, estamos, assim como o explicador, transformando informação nos seus dados constituentes e tentar repassar instruções para remontar esses dados em informação. A associação é que quando se há uma linguagem escrita, há um acúlmulo muito mais rápido de informação, assim a inteligência pode ser usada com bases nessas informações e dados altamente refinados para se estabelecer novas informações e o processo se repete.\n",
    "\n",
    "Entretando, linguagem escrita não é requisito para inteligência."
   ]
  },
  {
   "cell_type": "markdown",
   "metadata": {},
   "source": [
    "# 4. Definir conhecimento. Como se transmite conhecimento?\n"
   ]
  },
  {
   "cell_type": "markdown",
   "metadata": {},
   "source": []
  },
  {
   "cell_type": "markdown",
   "metadata": {},
   "source": [
    "# 5. Ler artigo de Turing.\n"
   ]
  },
  {
   "cell_type": "markdown",
   "metadata": {},
   "source": [
    "# 6. Citar todas objeções a visão de que máquinas podem ser inteligentes relatadas por Turing.\n"
   ]
  },
  {
   "cell_type": "markdown",
   "metadata": {},
   "source": [
    "- A Objeção Teológica afirma que apenas seres humanos possuem alma imortal, logo apenas eles podem pensar. Turing discorda, sugerindo que animais também poderiam pensar, desafiando a visão ortodoxa. Ele argumenta que Deus poderia conceder alma a animais ou até mesmo a máquinas, expandindo Sua onipotência. No entanto, ele ressalta que essas são especulações teológicas, que podem ser insatisfatórias, como no caso da controvérsia de Galileu sobre o movimento da Terra.\n",
    "- A Objeção da Cabeça na Areia sugere que as consequências de máquinas pensantes seriam terríveis demais, e preferimos acreditar que elas não podem pensar. Isso reflete a ideia de que o homem é superior ao restante da criação e que sua posição dominante não deve ser ameaçada. Este argumento é mais emocional do que substancial e pode ser melhor confrontado com consolo em vez de refutação, talvez encontrando conforto na ideia de transmigração das almas.\n",
    "- A Objeção Matemática aponta limitações das máquinas de estado discreto, baseadas em resultados da lógica matemática, como o teorema de Gödel. No entanto, essas limitações não necessariamente se aplicam ao intelecto humano. O sentimento de superioridade ao ver uma máquina falhar não deve ser exagerado, pois nós mesmos cometemos erros. Portanto, embora possam existir homens mais inteligentes do que certas máquinas, outras máquinas podem ser ainda mais inteligentes.\n",
    "- O Argumento da Consciência questiona se uma máquina pode igualar verdadeiramente o pensamento criativo e emocional humano. Ele sugere que, até que uma máquina possa produzir arte por meio de emoções e pensamentos, não apenas por símbolos aleatórios, não podemos considerá-la equivalente ao cérebro humano. Embora isso possa parecer extremista, muitos que o apoiam podem aceitar o teste de imitação como alternativa. Em suma, há espaço para considerar a consciência como um mistério, mas o teste de imitação ainda pode ser útil para abordar essa questão.\n",
    "- Os Argumentos de Várias Limitações questionam as capacidades das máquinas, destacando características que supostamente elas não seriam capazes de realizar, como serem amáveis, terem senso de humor ou cometer erros. No entanto, muitas dessas limitações são baseadas na observação superficial de máquinas em ação ao longo da vida, carecendo de suporte substancial. Algumas críticas incluem a ideia de que as máquinas não podem cometer erros, mas isso é contestado com base na distinção entre erros de funcionamento e erros de conclusão. Argumenta-se também que as máquinas podem ser objeto de seus próprios pensamentos, especialmente à medida que desenvolvem capacidades de autoaprendizagem e adaptação. As limitações percebidas das máquinas muitas vezes refletem uma visão limitada de seu potencial e são frequentemente disfarçadas como argumentos sobre consciência.\n",
    "- A \"Objecção de Lady Lovelace\" questiona a capacidade das máquinas de originar novas ações, sugerindo que elas apenas executam ordens pré-programadas. Isso levanta dúvidas sobre se as máquinas podem aprender ou surpreender. No entanto, argumenta-se que as máquinas podem surpreender, pois muitas vezes não calculamos precisamente o que esperar delas. Essa objeção destaca a necessidade de considerar a capacidade das máquinas de aprender e inovar.\n",
    "- O Argumento da Continuidade no Sistema Nervoso sugere que as máquinas de estado discreto podem não conseguir replicar a complexidade do sistema nervoso devido à natureza contínua do sistema nervoso. No entanto, dentro das regras do jogo de imitação, uma máquina discreta pode oferecer respostas adequadas, mesmo que não seja capaz de prever exatamente as respostas de uma máquina contínua, como um analisador diferencial.\n",
    "- O Argumento da Informalidade do Comportamento sugere que é impossível estabelecer um conjunto completo de regras de conduta para todas as situações, o que levaria à conclusão de que os seres humanos não podem ser máquinas. No entanto, essa lógica é falha devido a uma confusão entre \"regras de conduta\" conscientes e \"leis de comportamento\" naturais. Embora seja difícil provar a ausência de leis de comportamento completas, a observação científica sugere que até mesmo uma máquina discreta pode ser imprevisível, como demonstrado por um programa no computador de Manchester que não pode ser totalmente previsto.\n",
    "- O Argumento da Percepção Extra-sensorial desafia as concepções científicas ao sugerir a existência de fenômenos como telepatia, clarividência, precognição e psicocinese. Embora muitos desejem desacreditá-los, a evidência estatística para a telepatia é significativa. Isso sugere que a mente humana pode influenciar resultados de maneiras imprevisíveis, o que tem implicações importantes, especialmente em testes como o jogo de imitação. Para lidar com isso, medidas rigorosas, como salas à prova de telepatia, podem ser necessárias."
   ]
  },
  {
   "cell_type": "markdown",
   "metadata": {},
   "source": [
    "# 7. Escolher uma das objeções, explicá-la e o contra-argumento apresentado por Turing.\n"
   ]
  },
  {
   "cell_type": "markdown",
   "metadata": {},
   "source": [
    "# 8. Como Turing propõe resolver o problema de determinar se uma máquina é inteligente?\n"
   ]
  },
  {
   "cell_type": "markdown",
   "metadata": {},
   "source": [
    "Com o Jogo da Imitação, ou como ficou mais popularmente conhecido, Teste de Turing. O teste consiste em um juiz humano interagindo com uma máquina e um humano, sem saber quem é quem. Se o juiz não conseguir distinguir quem é quem, a máquina é considerada inteligente."
   ]
  },
  {
   "cell_type": "markdown",
   "metadata": {},
   "source": [
    "# 9. Na visão de Turing, como as máquinas poderão se tornar inteligentes?\n"
   ]
  },
  {
   "cell_type": "markdown",
   "metadata": {},
   "source": [
    "Ao invés de tentar simular um cérebro \"adulto\", simular um cérebro de uma criança, e deixar que a máquina aprenda por si só, simulando processos de seleção natural e genética."
   ]
  },
  {
   "cell_type": "markdown",
   "metadata": {},
   "source": [
    "# 10. Como você se posiciona em relação a questão das abordagens simbólica e estatística na Inteligência Artificial?\n"
   ]
  },
  {
   "cell_type": "markdown",
   "metadata": {},
   "source": [
    "Sou mais a favor de abordagens simbólicas, pelas transparência e interpretabilidade dos resultados e valores. Sou preocupado com a questão de Alinhamento de IAs, e acho que abordagens simbólicas são mais fáceis de serem manipuladas por nós para alinhar com valores humanos. Mas reconheço o absurdo poder das abordagens estatísticas, e abordagens que usam ambas em conjunto são muito interessantes."
   ]
  },
  {
   "cell_type": "markdown",
   "metadata": {},
   "source": [
    "# 11. Qual a sua opinião sobre a IA fraca e a IA forte?\n"
   ]
  },
  {
   "cell_type": "markdown",
   "metadata": {},
   "source": [
    "Continuamente expandimos e juntamos IAs fracas diferentes para formar uma \"IA média\". Acredito que a IA forte, quando eventualmente alcançarmos, será limitadíssima, e que nesse ponto as IAs \"médias\" serão bem poderosas. Entretanto, rapidamente uma IA forte se provará mais poderosa que todas as IAs \"médias\" juntas."
   ]
  },
  {
   "cell_type": "markdown",
   "metadata": {},
   "source": [
    "# 12. Diferenciar satisfação de restrições e otimização em problemas de busca.\n"
   ]
  },
  {
   "cell_type": "markdown",
   "metadata": {},
   "source": [
    "Uma restrição é uma condição que, se não satisfeita, a solução é inválida, independente de qualquer aspecto. Otimizações são condições que, se satisteitas, encorrem em uma bônus ou em uma penalidade para a função objetiva."
   ]
  },
  {
   "cell_type": "markdown",
   "metadata": {},
   "source": [
    "# 13. Diferenciar problemas de classificação e regressão.\n"
   ]
  },
  {
   "cell_type": "markdown",
   "metadata": {},
   "source": [
    "A regressão tenta encontrar uma função que melhor se ajusta aos dados, enquanto a classificação tenta encontrar uma função que melhor categoriza os dados."
   ]
  },
  {
   "cell_type": "markdown",
   "metadata": {},
   "source": [
    "# 14. Indicar os tipos de padrões que se procura identificar nos problemas de agrupamento e de associação.\n"
   ]
  },
  {
   "cell_type": "markdown",
   "metadata": {},
   "source": [
    "O agrupamento tenta encontrar padrões e similaridades entre instâncias. A associação tenta encontrar padrão de co-ocorrência entre dados de instâncias (não necessariamente a solução da instância por completo, mas presenta de features dentro de cada instância é uma possibilidade)\n",
    "\n",
    "O Agrupamento resulta em um conjunto de clusters, enquanto a associação resulta em um conjunto de regras de associação, que são regras que indicam a co-ocorrência de features."
   ]
  }
 ],
 "metadata": {
  "language_info": {
   "name": "python"
  }
 },
 "nbformat": 4,
 "nbformat_minor": 2
}
