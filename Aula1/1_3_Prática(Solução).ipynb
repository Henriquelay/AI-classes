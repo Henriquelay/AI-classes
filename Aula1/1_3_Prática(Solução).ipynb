{
  "cells": [
    {
      "cell_type": "markdown",
      "metadata": {
        "id": "FHEcFGQ3_pU3"
      },
      "source": [
        "# (Solução) Exercícios de Fixação - Prática"
      ]
    },
    {
      "cell_type": "markdown",
      "metadata": {
        "id": "YvsKn7bM_pU6"
      },
      "source": [
        "1. O que acontecerá na execução dos algoritmos apresentados para a solução do problema da Mochila 0/1 se o número de itens crescer de forma demasiada? Por que isso ocorre? Tente aumentar gradualmente o número de itens e verifique o que ocorre. Relate"
      ]
    },
    {
      "cell_type": "markdown",
      "metadata": {
        "id": "QxDmUQOR_pU6"
      },
      "source": [
        "Se o número de itens crescer de forma demasiada, a execução dos algoritmos apresentados para a solução do problema da Mochila 0/1 se tornará computacionalmente inviável, exigindo muito tempo e recursos para sua execução. O problema torna-se NP-difícil, o que significa que não há algoritmos conhecidos que possam resolvê-lo de maneira eficiente para todas as instâncias do problema."
      ]
    },
    {
      "cell_type": "code",
      "execution_count": null,
      "metadata": {
        "id": "FGibN3Oa_pU7",
        "outputId": "50b3731b-c23f-493c-f7d1-ee0006b77df6"
      },
      "outputs": [
        {
          "name": "stdout",
          "output_type": "stream",
          "text": [
            "op:0 qtd:5 time:8.177757263183594e-05\n",
            "op:1 qtd:10 time:0.002223968505859375\n",
            "op:2 qtd:15 time:0.056149959564208984\n",
            "op:3 qtd:20 time:2.966486930847168\n"
          ]
        }
      ],
      "source": [
        "import time\n",
        "\n",
        "def step (l):\n",
        "    return [l+[0], l+[1]]\n",
        "\n",
        "def expand(l):\n",
        "    s = []\n",
        "    for i in l:\n",
        "        s += step(i)\n",
        "    if s == []:\n",
        "        s= step([])\n",
        "    return s\n",
        "\n",
        "def combine (n):\n",
        "    if n <= 0:\n",
        "        return []\n",
        "    l = expand([])\n",
        "    for i in range(n-1):\n",
        "        l = expand(l)\n",
        "    return l\n",
        "\n",
        "def size(estado, itens):\n",
        "  return sum([estado[i]*itens[i] for i in range(len(estado))])\n",
        "\n",
        "def valid(estado, itens, tMochila):\n",
        "    return size(estado, itens) <= tMochila\n",
        "\n",
        "def solution(estado, itens):\n",
        "    s = []\n",
        "    for i in range(len(estado)):\n",
        "        if estado[i]:\n",
        "            s.append (itens[i])\n",
        "    return s\n",
        "\n",
        "def blindSearchKnapsack01 (tMochila, itens):\n",
        "    solucoes = []\n",
        "    for s in combine(len(itens)):\n",
        "        if valid(s, itens, tMochila):\n",
        "            solucoes.append((solution(s, itens), size(s, itens)))\n",
        "    return solucoes\n",
        "\n",
        "for i in range(1, 5):\n",
        "    start = time.time()\n",
        "    blindSearchKnapsack01(8, range(1, i*5))\n",
        "    end = time.time()\n",
        "    print (f\"op:{i-1} qtd:{i*5} time:{end-start}\")\n"
      ]
    },
    {
      "cell_type": "markdown",
      "metadata": {
        "id": "BC7Qn71x_pU8"
      },
      "source": [
        "2. Considere que no problema da mochila 0/1 cada um dos itens disponíveis tem um valor e que o objetivo é encher a mochila para maximizar o valor agregado dos ítens colocados na mochila. Refaça a solução em python apresentada anteriormente para resolver este problema."
      ]
    },
    {
      "cell_type": "code",
      "execution_count": null,
      "metadata": {
        "colab": {
          "base_uri": "https://localhost:8080/"
        },
        "id": "PD7rIiSG_pU8",
        "outputId": "f1752730-768b-4026-c33f-0d2a68083966"
      },
      "outputs": [
        {
          "output_type": "stream",
          "name": "stdout",
          "text": [
            "([(2, 3), (3, 4), (1, 10)], 6, 17)\n",
            "Iteração: 1, Quantidade de itens: 5, Tempo: 0.0002880096435546875, Soluções encontradas: 19\n",
            "([(2, 3), (3, 4), (1, 10)], 6, 17)\n",
            "Iteração: 2, Quantidade de itens: 10, Tempo: 0.0006654262542724609, Soluções encontradas: 24\n",
            "([(2, 3), (3, 4), (1, 10)], 6, 17)\n",
            "Iteração: 3, Quantidade de itens: 15, Tempo: 0.0005829334259033203, Soluções encontradas: 24\n",
            "([(2, 3), (3, 4), (1, 10)], 6, 17)\n",
            "Iteração: 4, Quantidade de itens: 20, Tempo: 0.00045037269592285156, Soluções encontradas: 24\n",
            "([(2, 3), (3, 4), (1, 10)], 6, 17)\n",
            "Iteração: 5, Quantidade de itens: 25, Tempo: 0.0005521774291992188, Soluções encontradas: 24\n",
            "([(2, 3), (3, 4), (1, 10)], 6, 17)\n",
            "Iteração: 6, Quantidade de itens: 30, Tempo: 0.0004169940948486328, Soluções encontradas: 24\n",
            "([(2, 3), (3, 4), (1, 10)], 6, 17)\n",
            "Iteração: 7, Quantidade de itens: 35, Tempo: 0.0003879070281982422, Soluções encontradas: 24\n",
            "([(2, 3), (3, 4), (1, 10)], 6, 17)\n",
            "Iteração: 8, Quantidade de itens: 40, Tempo: 0.00036406517028808594, Soluções encontradas: 24\n",
            "([(2, 3), (3, 4), (1, 10)], 6, 17)\n",
            "Iteração: 9, Quantidade de itens: 45, Tempo: 0.0003693103790283203, Soluções encontradas: 24\n"
          ]
        }
      ],
      "source": [
        "import time\n",
        "\n",
        "def step(l):\n",
        "    return [l + [0], l + [1]]\n",
        "\n",
        "def expand(l):\n",
        "    return [i for s in l for i in step(s)]\n",
        "\n",
        "def combine(n):\n",
        "    l = [[]]\n",
        "    for _ in range(n):\n",
        "        l = expand(l)\n",
        "    return l\n",
        "\n",
        "def size(estado, itens):\n",
        "    return sum([estado[i] * itens[i][0] for i in range(len(estado))])\n",
        "\n",
        "def value(estado, itens):\n",
        "    return sum([estado[i] * itens[i][1] for i in range(len(estado))])\n",
        "\n",
        "def valid(estado, itens, tMochila):\n",
        "    return size(estado, itens) <= tMochila\n",
        "\n",
        "def solution(estado, itens):\n",
        "    s = []\n",
        "    for i in range(len(estado)):\n",
        "        if estado[i]:\n",
        "            s.append(itens[i])\n",
        "    return s\n",
        "\n",
        "def blindSearchKnapsack01(tMochila, itens):\n",
        "    solucoes = []\n",
        "    for s in combine(len(itens)):\n",
        "        if valid(s, itens, tMochila):\n",
        "            solucoes.append((solution(s, itens), size(s, itens), value(s, itens)))\n",
        "    return solucoes\n",
        "\n",
        "itens = [(2, 3), (3, 4), (4, 5), (5, 6),(1,10),(10,1),(5,5)]\n",
        "#itens = [(7,18),(2, 3), (3, 4), (4, 5), (5, 6),(1,10),(10,1),(5,5)]  # Exemplo de itens: (peso, valor)\n",
        "\n",
        "for i in range(1, 10):\n",
        "    start = time.time()\n",
        "    solucoes = blindSearchKnapsack01(8, itens[:i*5])\n",
        "    end = time.time()\n",
        "    print(solucoes[-1])\n",
        "    print(f\"Iteração: {i}, Quantidade de itens: {i*5}, Tempo: {end-start}, Soluções encontradas: {len(solucoes)}\")"
      ]
    },
    {
      "cell_type": "markdown",
      "metadata": {
        "id": "cpgs5T4n_pU8"
      },
      "source": [
        "3. Implemente o algoritmo de agrupamento hierárquico divisivo para dados unidimensionais."
      ]
    },
    {
      "cell_type": "code",
      "source": [
        "import numpy as np\n",
        "\n",
        "def divisive_hierarchical_clustering(data, k=None):\n",
        "    # Inicia com um único grupo contendo todos os dados fornecidos\n",
        "    clusters = [data]\n",
        "\n",
        "    # Função para dividir um cluster em dois\n",
        "    def divide_cluster(cluster):\n",
        "        # Ordena a lista\n",
        "        cluster.sort()\n",
        "\n",
        "        distances = [cluster[i+1] - cluster[i] for i in range(len(cluster)-1)]\n",
        "\n",
        "        max_indice = np.argmax(distances)\n",
        "\n",
        "        split_point = cluster[max_indice]\n",
        "\n",
        "        # Divide no ponto com maior diferença para o proximo\n",
        "        cluster1 = [x for x in cluster if x <= split_point]\n",
        "        cluster2 = [x for x in cluster if x > split_point]\n",
        "\n",
        "        return cluster1, cluster2\n",
        "\n",
        "    # Função recursiva para realizar a divisão hierárquica\n",
        "    def recursive_division(clusters, k=None):\n",
        "        if len(clusters) == k or all(len(cluster) == 1 for cluster in clusters):\n",
        "            # Condição de parada: número desejado de clusters alcançado ou cada cluster tem apenas um dado\n",
        "            return clusters\n",
        "        else:\n",
        "            # Encontra o maior cluster para dividir\n",
        "            max_cluster_index = np.argmax([len(cluster) for cluster in clusters])\n",
        "            max_cluster = clusters[max_cluster_index]\n",
        "\n",
        "            # Divide o maior cluster em dois\n",
        "            cluster1, cluster2 = divide_cluster(max_cluster)\n",
        "\n",
        "            # Remove o cluster original e adiciona os dois novos clusters\n",
        "            clusters.pop(max_cluster_index)\n",
        "            clusters.append(cluster1)\n",
        "            clusters.append(cluster2)\n",
        "\n",
        "            # Chama recursivamente a função para continuar a divisão\n",
        "            return recursive_division(clusters, k)\n",
        "\n",
        "    # Realiza a divisão hierárquica\n",
        "    clusters = recursive_division(clusters, k)\n",
        "\n",
        "    return clusters\n",
        "\n",
        "# Exemplo de uso\n",
        "data = [2, 4, 10, 12, 3, 20, 30, 11,100,200,150,151,103,1000,1010]\n",
        "k = 3  # Número de clusters desejados\n",
        "clusters = divisive_hierarchical_clustering(data, k)\n",
        "print(\"Clusters resultantes:\")\n",
        "for i, cluster in enumerate(clusters):\n",
        "    print(f\"Cluster {i+1}: {cluster}\")"
      ],
      "metadata": {
        "colab": {
          "base_uri": "https://localhost:8080/"
        },
        "id": "R88KRWQRB5R-",
        "outputId": "70543c8c-7df1-4eb3-f9aa-1f2f2eddda03"
      },
      "execution_count": 10,
      "outputs": [
        {
          "output_type": "stream",
          "name": "stdout",
          "text": [
            "[2, 3, 4, 10, 11, 12, 20, 30, 100, 103, 150, 151, 200, 1000, 1010]\n",
            "[2, 3, 4, 10, 11, 12, 20, 30, 100, 103, 150, 151, 200]\n",
            "Clusters resultantes:\n",
            "Cluster 1: [1000, 1010]\n",
            "Cluster 2: [2, 3, 4, 10, 11, 12, 20, 30]\n",
            "Cluster 3: [100, 103, 150, 151, 200]\n"
          ]
        }
      ]
    },
    {
      "cell_type": "markdown",
      "metadata": {
        "id": "PUC_ODH6_pU9"
      },
      "source": [
        "4. Altere o algoritmo de agrupamento hierárquico divisivo para considerar dados multidimensionais numéricos. Indique o que necessita ser feito para aplicar o algoritmo da questão 3 aqui. Qual a maior dificuldade para isso? Proponha uma solução para contornar essa dificuldade. Indique casos em que essa solução pode não ser satisfatória. Implemente a sua solução."
      ]
    },
    {
      "cell_type": "markdown",
      "source": [
        "As mudanças necessarias sao em onde dividir o cluster, e qual medida usar como distancia entre os pontos. No espaço multidimensional nao existe mediana, logo é um desafio procurar um ponto de divisão. Nessa implementação escolhi usar um ponto aleatorio."
      ],
      "metadata": {
        "id": "cGxCAnRDGFmu"
      }
    },
    {
      "cell_type": "code",
      "source": [
        "import numpy as np\n",
        "from scipy.spatial.distance import euclidean\n",
        "\n",
        "def divisive_hierarchical_clustering(data, k=None):\n",
        "    # Inicia com um único grupo contendo todos os dados fornecidos\n",
        "    clusters = [data]\n",
        "\n",
        "    def divide_cluster(cluster):\n",
        "        # Escolhe um ponto de divisão aleatório dentro do espaço multidimensional\n",
        "        split_point = np.random.uniform(np.min(cluster, axis=0), np.max(cluster, axis=0))\n",
        "\n",
        "        # Calcula as distâncias de todos os pontos do cluster ao ponto de divisão\n",
        "        distances = np.linalg.norm(cluster - split_point, axis=1)\n",
        "\n",
        "        # Divide o cluster em dois com base nas distâncias ao ponto de divisão\n",
        "        cluster1 = cluster[distances <= np.mean(distances)]\n",
        "        cluster2 = cluster[distances > np.mean(distances)]\n",
        "\n",
        "        return cluster1, cluster2\n",
        "\n",
        "    # Função recursiva para realizar a divisão hierárquica\n",
        "    def recursive_division(clusters, k=None):\n",
        "        if k is not None and len(clusters) == k or all(len(cluster) == 1 for cluster in clusters):\n",
        "            return clusters\n",
        "        else:\n",
        "            # Encontra o maior cluster para dividir\n",
        "            max_cluster_index = np.argmax([len(cluster) for cluster in clusters])\n",
        "            max_cluster = clusters[max_cluster_index]\n",
        "\n",
        "            # Divide o maior cluster em dois\n",
        "            cluster1, cluster2 = divide_cluster(max_cluster)\n",
        "\n",
        "            # Remove o cluster original e adiciona os dois novos clusters\n",
        "            clusters.pop(max_cluster_index)\n",
        "            clusters.append(cluster1)\n",
        "            clusters.append(cluster2)\n",
        "\n",
        "            # Chama recursivamente a função para continuar a divisão\n",
        "            return recursive_division(clusters, k)\n",
        "\n",
        "    # Realiza a divisão hierárquica\n",
        "    clusters = recursive_division(clusters, k)\n",
        "\n",
        "    return clusters\n",
        "\n",
        "# Exemplo de uso\n",
        "data = np.array([[2, 5], [4, 7], [10, 3], [12, 8], [3, 6], [20, 12], [30, 15], [11, 9]])\n",
        "k = 4  # Número de clusters desejados\n",
        "clusters = divisive_hierarchical_clustering(data, k)\n",
        "print(\"Clusters resultantes:\")\n",
        "for i, cluster in enumerate(clusters):\n",
        "    print(f\"Cluster {i+1}: {cluster}\")"
      ],
      "metadata": {
        "colab": {
          "base_uri": "https://localhost:8080/"
        },
        "id": "oZH-DqbNCQp1",
        "outputId": "d476e72b-1c14-4957-c2f9-81df3e29d02b"
      },
      "execution_count": 2,
      "outputs": [
        {
          "output_type": "stream",
          "name": "stdout",
          "text": [
            "Clusters resultantes:\n",
            "Cluster 1: [[12  8]\n",
            " [11  9]]\n",
            "Cluster 2: [[10  3]\n",
            " [20 12]]\n",
            "Cluster 3: [[30 15]]\n",
            "Cluster 4: [[2 5]\n",
            " [4 7]\n",
            " [3 6]]\n"
          ]
        }
      ]
    }
  ],
  "metadata": {
    "kernelspec": {
      "display_name": "Python 3",
      "language": "python",
      "name": "python3"
    },
    "language_info": {
      "codemirror_mode": {
        "name": "ipython",
        "version": 3
      },
      "file_extension": ".py",
      "mimetype": "text/x-python",
      "name": "python",
      "nbconvert_exporter": "python",
      "pygments_lexer": "ipython3",
      "version": "3.8.10"
    },
    "orig_nbformat": 4,
    "colab": {
      "provenance": []
    }
  },
  "nbformat": 4,
  "nbformat_minor": 0
}