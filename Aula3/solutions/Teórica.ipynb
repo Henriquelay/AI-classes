{
 "cells": [
  {
   "cell_type": "markdown",
   "metadata": {},
   "source": [
    "1. O que é uma base de dados desbalanceada?\n"
   ]
  },
  {
   "cell_type": "markdown",
   "metadata": {},
   "source": [
    "2. Compare as métricas accuracy e f1 em bases de dados binárias indicando as suas vantagens em relação a outra.\n"
   ]
  },
  {
   "cell_type": "markdown",
   "metadata": {},
   "source": [
    "3. Explique porque há necessidade de usar os conceitos micro, macro e weighted em conjunto com as métricas precision, recall e f1? Porque esses conceitos não se aplicam a accuracy? 4. Qual a relação entre micro precision, micro recall, micro f1 e accuracy quando o conjunto de teste é perfeitamente balanceado? Essa relação se aplica a macro f1?\n"
   ]
  },
  {
   "cell_type": "markdown",
   "metadata": {},
   "source": [
    "5. Porque o método de amostragem por resubstituição não é indicado para avaliação de métodos de classificação? Apresente uma utilidade para este método de amostragem.\n"
   ]
  },
  {
   "cell_type": "markdown",
   "metadata": {},
   "source": [
    "6. Apresente as vantagens do método de validação cruzada estratificada em comparação ao método de divisão percentual.\n"
   ]
  },
  {
   "cell_type": "markdown",
   "metadata": {},
   "source": [
    "7. Quando o método de exclusão de 1 deve ser preferido em relação ao método de validação cruzada? Qual a maior dificuldade para aplicação desse método?\n"
   ]
  },
  {
   "cell_type": "markdown",
   "metadata": {},
   "source": [
    "8. Os métodos mais robustos de classificação supervisionada contém vários parâmetros. De que forma pode ser determinado os valores desses hiperparâmetros? Qual é o método mais usado e porque ele é o preferido?\n"
   ]
  },
  {
   "cell_type": "markdown",
   "metadata": {},
   "source": [
    "9. Qual a forma mais indicada de se evitar superajuste dos métodos. Explique como ela funciona. Considere o uso do classificador K Vizinhos Mais Próximos com o método indicado e explique porque nesse caso não é possível indicar o valor de K encontrado.\n"
   ]
  },
  {
   "cell_type": "markdown",
   "metadata": {},
   "source": [
    "10. Porque é importante usar testes estatísticos na comparação de desempenho entre métodos de classificação? Qual a diferença entreusar um método paramétrico e não paramétrico de testes de hipóteses? Explique porque é necessário ter 30 valores para aplicar o teste T. Indique em qual dos testes é mais fácil mostrar a diferença entre os métodos. Explique porque isso ocorre. 11. Explique o que é o problema do bias de similaridade apresentado no artigo \"An Experimental Methodology to Evaluate Machine Learning Methods for Fault Diagnosis based on Vibration Signals\" e apresente o contexto em que ele pode ocorrer.\n"
   ]
  },
  {
   "cell_type": "markdown",
   "metadata": {},
   "source": [
    "12. Considere a seguinte matriz de confusão:\n",
    "\n",
    "Classe | A (preditas) | B (preditas) | C (preditas)\n",
    ":-: | :-: | :-: | :-:\n",
    "A (Verdadeiras) | 6 | 2 | 0\n",
    "B (Verdadeiras) | 1 | 4 | 1\n",
    "C (Verdadeiras) | 1 | 0 | 5\n",
    "\n",
    "Calcule as seguintes métricas:\n",
    "    a) acurácia (accuracy)\n",
    "    b) precisão (precision) da classe B\n",
    "    c) revocação macro (macro recall)\n"
   ]
  },
  {
   "cell_type": "markdown",
   "metadata": {},
   "source": [
    "13.    Explique como funciona o método de reamostragem de validação\n",
    "cruzada aninhada. Apresente a vantagem desse método em relação ao\n",
    "método de validação cruzada simples."
   ]
  }
 ],
 "metadata": {
  "language_info": {
   "name": "python"
  }
 },
 "nbformat": 4,
 "nbformat_minor": 2
}
