{
 "cells": [
  {
   "cell_type": "markdown",
   "metadata": {},
   "source": [
    "1. O que é uma base de dados desbalanceada?\n"
   ]
  },
  {
   "cell_type": "markdown",
   "metadata": {},
   "source": [
    "Uma base de dados em que não tem uma divisão equilibrada (mesma quantidade) entre as classes. Por exemplo, se temos uma base de dados com 1000 exemplos, sendo 900 da classe 0 e 100 da classe 1, essa base de dados é considerada desbalanceada."
   ]
  },
  {
   "cell_type": "markdown",
   "metadata": {},
   "source": [
    "2. Compare as métricas accuracy e f1 em bases de dados binárias indicando as suas vantagens em relação a outra.\n"
   ]
  },
  {
   "cell_type": "markdown",
   "metadata": {},
   "source": [
    "A acurácia é uma métrica que mede a proporção de exemplos classificados corretamente. Ela é uma métrica simples e fácil de interpretar, mas ela não é uma boa métrica para bases de dados desbalanceadas, pois ela pode ser enganosa. Por exemplo, se temos uma base de dados com 1000 exemplos, sendo 900 da classe 0 e 100 da classe 1, um classificador que classifica todos os exemplos como classe 0 terá uma acurácia de 90%, mas ele não é um bom classificador.\n",
    "\n",
    "O f1 é uma métrica que combina a precisão e o recall. A precisão é a proporção de exemplos classificados como positivos que são realmente positivos, enquanto o recall é a proporção de exemplos positivos que foram classificados corretamente. O f1 é uma métrica mais robusta para bases de dados desbalanceadas, pois ela leva em consideração tanto os falsos positivos quanto os falsos negativos. "
   ]
  },
  {
   "cell_type": "markdown",
   "metadata": {},
   "source": [
    "3. Explique porque há necessidade de usar os conceitos micro, macro e weighted em conjunto com as métricas precision, recall e f1? Porque esses conceitos não se aplicam a accuracy? "
   ]
  },
  {
   "cell_type": "markdown",
   "metadata": {},
   "source": [
    "Pois esses conceitos são úteis para avaliar o desempenho de classificadores em bases de dados desbalanceadas. O conceito micro calcula a métrica globalmente, ou seja, ele considera todas as classes juntas. O conceito macro calcula a métrica para cada classe e depois tira a média, ou seja, ele considera cada classe individualmente. O conceito weighted calcula a métrica para cada classe e depois tira a média ponderada, ou seja, ele considera cada classe individualmente, mas dá mais peso para as classes com mais exemplos."
   ]
  },
  {
   "cell_type": "markdown",
   "metadata": {},
   "source": [
    "4. Qual a relação entre micro precision, micro recall, micro f1 e accuracy quando o conjunto de teste é perfeitamente balanceado? Essa relação se aplica a macro f1?\n"
   ]
  },
  {
   "cell_type": "markdown",
   "metadata": {},
   "source": [
    "São iguais, pois o conjunto de teste é perfeitamente balanceado. Essa relação não se aplica a macro f1, pois a macro f1 considera cada classe individualmente."
   ]
  },
  {
   "cell_type": "markdown",
   "metadata": {},
   "source": [
    "5. Porque o método de amostragem por resubstituição não é indicado para avaliação de métodos de classificação? Apresente uma utilidade para este método de amostragem.\n"
   ]
  },
  {
   "cell_type": "markdown",
   "metadata": {},
   "source": [
    "Pois ele pode superestimar o desempenho do classificador, pois ele está avaliando o classificador nos mesmos dados que ele foi treinado. Uma utilidade para este método de amostragem é avaliar o desempenho do classificador em bases de dados pequenas."
   ]
  },
  {
   "cell_type": "markdown",
   "metadata": {},
   "source": [
    "6. Apresente as vantagens do método de validação cruzada estratificada em comparação ao método de divisão percentual.\n"
   ]
  },
  {
   "cell_type": "markdown",
   "metadata": {},
   "source": [
    "As vantagens do método de validação cruzada estratificada em comparação ao método de divisão percentual são que ele é mais robusto, pois ele evita que uma classe fique sub-representada nos conjuntos de treino e teste, e ele é mais preciso, pois ele calcula a métrica em vários conjuntos de treino e teste."
   ]
  },
  {
   "cell_type": "markdown",
   "metadata": {},
   "source": [
    "7. Quando o método de exclusão de 1 deve ser preferido em relação ao método de validação cruzada? Qual a maior dificuldade para aplicação desse método?\n"
   ]
  },
  {
   "cell_type": "markdown",
   "metadata": {},
   "source": [
    "Quando a base de dados é muito grande, pois o método de exclusão de 1 é mais rápido que o método de validação cruzada. A maior dificuldade para aplicação desse método é que ele pode ser enviesado, pois ele depende da ordem dos exemplos."
   ]
  },
  {
   "cell_type": "markdown",
   "metadata": {},
   "source": [
    "8. Os métodos mais robustos de classificação supervisionada contém vários parâmetros. De que forma pode ser determinado os valores desses hiperparâmetros? Qual é o método mais usado e porque ele é o preferido?\n"
   ]
  },
  {
   "cell_type": "markdown",
   "metadata": {},
   "source": [
    "Usando a validação cruzada. O método mais usado é a busca em grade, pois ele é mais preciso."
   ]
  },
  {
   "cell_type": "markdown",
   "metadata": {},
   "source": [
    "9. Qual a forma mais indicada de se evitar superajuste dos métodos. Explique como ela funciona. Considere o uso do classificador K Vizinhos Mais Próximos com o método indicado e explique porque nesse caso não é possível indicar o valor de K encontrado.\n"
   ]
  },
  {
   "cell_type": "markdown",
   "metadata": {},
   "source": []
  },
  {
   "cell_type": "markdown",
   "metadata": {},
   "source": [
    "10. Porque é importante usar testes estatísticos na comparação de desempenho entre métodos de classificação? Qual a diferença entre usar um método paramétrico e não paramétrico de testes de hipóteses? Explique porque é necessário ter 30 valores para aplicar o teste T. Indique em qual dos testes é mais fácil mostrar a diferença entre os métodos. Explique porque isso ocorre. "
   ]
  },
  {
   "cell_type": "markdown",
   "metadata": {},
   "source": [
    "Pois eles permitem avaliar se a diferença de desempenho entre os métodos é estatisticamente significativa. A diferença entre usar um método paramétrico e não paramétrico de testes de hipóteses é que o método paramétrico assume que os dados seguem uma distribuição normal, enquanto o método não paramétrico não faz essa suposição. É necessário ter 30 valores para aplicar o teste T, pois ele é mais preciso com um número maior de exemplos. É mais fácil mostrar a diferença entre os métodos no teste não paramétrico, pois ele não faz suposições sobre a distribuição dos dados."
   ]
  },
  {
   "cell_type": "markdown",
   "metadata": {},
   "source": [
    "11. Explique o que é o problema do bias de similaridade apresentado no artigo \"An Experimental Methodology to Evaluate Machine Learning Methods for Fault Diagnosis based on Vibration Signals\" e apresente o contexto em que ele pode ocorrer.\n"
   ]
  },
  {
   "cell_type": "markdown",
   "metadata": {},
   "source": [
    "12. Considere a seguinte matriz de confusão:\n",
    "\n",
    "Classe | A (preditas) | B (preditas) | C (preditas)\n",
    ":-: | :-: | :-: | :-:\n",
    "A (Verdadeiras) | 6 | 2 | 0\n",
    "B (Verdadeiras) | 1 | 4 | 1\n",
    "C (Verdadeiras) | 1 | 0 | 5\n",
    "\n",
    "Calcule as seguintes métricas:\n",
    "    a) acurácia (accuracy)\n",
    "    b) precisão (precision) da classe B\n",
    "    c) revocação macro (macro recall)\n"
   ]
  },
  {
   "cell_type": "markdown",
   "metadata": {},
   "source": [
    "13.    Explique como funciona o método de reamostragem de validação\n",
    "cruzada aninhada. Apresente a vantagem desse método em relação ao\n",
    "método de validação cruzada simples."
   ]
  }
 ],
 "metadata": {
  "language_info": {
   "name": "python"
  }
 },
 "nbformat": 4,
 "nbformat_minor": 2
}
