{
 "cells": [
  {
   "cell_type": "markdown",
   "metadata": {},
   "source": [
    "# Exercícios de Fixação - Prática"
   ]
  },
  {
   "cell_type": "markdown",
   "metadata": {},
   "source": [
    "1. Carregue o dataset breast cancer disponível no sklearn e obtenha a distribuição de classes deste dataset."
   ]
  },
  {
   "cell_type": "code",
   "execution_count": 2,
   "metadata": {},
   "outputs": [
    {
     "name": "stdout",
     "output_type": "stream",
     "text": [
      "[(0, 0.37258347978910367), (1, 0.6274165202108963)]\n"
     ]
    }
   ],
   "source": [
    "# Método manual para calcular a distribuição de classes\n",
    "\n",
    "from sklearn.datasets import load_breast_cancer\n",
    "import pandas as pd\n",
    "import numpy as np\n",
    "\n",
    "breast = load_breast_cancer()\n",
    "X = breast.data\n",
    "y = breast.target\n",
    "\n",
    "df = pd.DataFrame(X, columns=breast.feature_names)\n",
    "\n",
    "def classDistribution (classData):\n",
    "\n",
    "    tam = len(classData)\n",
    "    labels = np.unique(classData)\n",
    "    \n",
    "    classDistr = []\n",
    "    for class_value in labels:\n",
    "        cvc = list(filter(lambda x: x == class_value, classData))\n",
    "        cvc = len(cvc)\n",
    "        classDistr += [(class_value, cvc/tam)]\n",
    "\n",
    "    return classDistr\n",
    "\n",
    "print(classDistribution(y))"
   ]
  },
  {
   "cell_type": "code",
   "execution_count": 3,
   "metadata": {},
   "outputs": [
    {
     "name": "stdout",
     "output_type": "stream",
     "text": [
      "Classe 0:  37.26 %\n",
      "Classe 1:  62.74 %\n"
     ]
    }
   ],
   "source": [
    "# Método do DataFrame para calcular a distribuição de classes\n",
    "\n",
    "from sklearn.datasets import load_breast_cancer\n",
    "import pandas as pd\n",
    "\n",
    "bc = load_breast_cancer(as_frame=True)\n",
    "df = pd.DataFrame(bc['data'])\n",
    "df['target'] = bc['target']\n",
    "\n",
    "dist = df['target'].value_counts(normalize=True)\n",
    "\n",
    "print(f\"Classe 0: {dist[0]*100 : .2f} %\")\n",
    "print(f\"Classe 1: {dist[1]*100 : .2f} %\")"
   ]
  },
  {
   "cell_type": "markdown",
   "metadata": {},
   "source": [
    "2. Compare as métricas accuracy e f1 em bases de dados binárias indicando as suas vantagens em relação a outra. Use o classificador Vizinho Mais Próximo e uma divisão percentual com 30% dos exemplos do dataset breast cancer usados para teste para obter o valor da acurácia e f1 deste classificador neste dataset. "
   ]
  },
  {
   "cell_type": "code",
   "execution_count": 4,
   "metadata": {},
   "outputs": [
    {
     "name": "stdout",
     "output_type": "stream",
     "text": [
      "[0 1 1 1 1 1 1 1 1 1 1 1 1 1 1 0 1 0 0 0 0 0 1 1 0 1 1 0 1 0 1 0 1 0 1 0 1\n",
      " 0 1 0 0 1 0 1 1 0 1 1 1 0 0 0 0 1 1 1 1 1 1 0 0 0 1 1 0 1 0 0 0 1 1 0 1 0\n",
      " 0 1 1 1 1 1 0 0 0 1 0 1 1 1 0 0 1 0 1 0 1 1 0 1 1 1 1 1 1 1 0 1 0 1 0 0 1\n",
      " 0 0 1 1 1 1 1 1 1 1 1 0 1 0 1 1 1 1 1 0 1 1 1 1 1 1 0 0 1 1 1 0 1 1 0 1 0\n",
      " 1 1 1 1 1 1 1 0 1 0 1 0 0 1 1 0 1 0 0 0 1 1 1]\n",
      "[1 1 1 0 1 1 1 1 1 1 0 1 1 1 0 0 1 0 0 0 0 1 1 1 0 1 1 1 1 0 1 0 1 0 1 0 1\n",
      " 0 1 0 0 1 0 1 0 0 1 1 1 0 0 1 0 1 1 1 1 1 1 0 0 0 1 1 0 1 0 0 0 1 1 0 1 1\n",
      " 0 1 1 1 1 1 0 0 0 1 0 1 1 1 0 0 1 0 1 0 1 1 0 1 1 1 1 1 1 1 0 1 0 1 0 1 1\n",
      " 0 0 1 1 1 0 1 1 1 1 1 1 1 0 1 1 1 1 1 0 1 1 1 1 1 1 0 0 1 1 1 0 1 1 0 1 0\n",
      " 1 1 1 0 1 1 1 1 1 0 1 0 0 1 1 0 1 0 0 0 1 1 1]\n",
      "\n",
      "\n",
      "accuracy score: 0.92\n",
      "\n",
      "fmeasure score\n",
      "macro: 0.91\n",
      "micro: 0.92\n",
      "weighted: 0.92\n",
      "\n"
     ]
    }
   ],
   "source": [
    "from sklearn.model_selection import train_test_split\n",
    "from sklearn.neighbors import KNeighborsClassifier\n",
    "from sklearn.metrics import accuracy_score, f1_score\n",
    "\n",
    "X_train, X_test, y_train, y_test = train_test_split(X, \n",
    "                    y, test_size=0.3, random_state=0)\n",
    "\n",
    "oneNN = KNeighborsClassifier(n_neighbors=1)\n",
    "\n",
    "oneNN.fit(X_train, y_train) \n",
    "print(y_test)\n",
    "y_pred = oneNN.predict(X_test)\n",
    "print(y_pred)\n",
    "print('\\n')\n",
    "\n",
    "print(\"accuracy score: %.2f\\n\" % accuracy_score(y_pred, y_test))\n",
    "\n",
    "print(\"fmeasure score\")\n",
    "print(\"macro: %.2f\" % f1_score(y_pred, y_test, average='macro'))\n",
    "print(\"micro: %.2f\" % f1_score(y_pred, y_test, average='micro'))\n",
    "print(\"weighted: %.2f\\n\" % f1_score(y_pred, y_test, average='weighted'))"
   ]
  },
  {
   "cell_type": "code",
   "execution_count": 5,
   "metadata": {},
   "outputs": [
    {
     "name": "stdout",
     "output_type": "stream",
     "text": [
      "              precision    recall  f1-score   support\n",
      "\n",
      "           0       0.90      0.87      0.89        63\n",
      "           1       0.93      0.94      0.94       108\n",
      "\n",
      "    accuracy                           0.92       171\n",
      "   macro avg       0.91      0.91      0.91       171\n",
      "weighted avg       0.92      0.92      0.92       171\n",
      "\n"
     ]
    }
   ],
   "source": [
    "from sklearn.metrics import classification_report\n",
    "\n",
    "print(classification_report(y_test,y_pred))"
   ]
  },
  {
   "cell_type": "markdown",
   "metadata": {},
   "source": [
    "3. Use o classificador Vizinho Mais Próximo e uma validação cruzada estratificada com 10 folds no dataset breast cancer para obter a matriz de confusão, a acurácia, o desvio padrão, o intervalo de confiança a 95%, a f1 macro, a precision micro e o recall micro deste classificador neste dataset."
   ]
  },
  {
   "cell_type": "code",
   "execution_count": 6,
   "metadata": {},
   "outputs": [
    {
     "name": "stdout",
     "output_type": "stream",
     "text": [
      "\n",
      "Mean Accuracy: 0.92 Standard Deviation: 0.03\n",
      "Accuracy Confidence Interval (95%): (0.90, 0.93)\n",
      "\n",
      "Mean Micro Precision: 0.92 Standard Deviation: 0.03\n",
      "Micro Precision Confidence Interval (95%): (0.90, 0.93)\n",
      "\n",
      "Mean Micro Recall: 0.92 Standard Deviation: 0.03\n",
      "Micro Recall Confidence Interval (95%): (0.90, 0.93)\n",
      "\n",
      "Mean Macro F1: 0.91 Standard Deviation: 0.03\n",
      "Macro F1 Confidence Interval (95%): (0.89, 0.93)\n",
      "\n"
     ]
    },
    {
     "data": {
      "image/png": "[encoded data removed]",
      "text/plain": [
       "<Figure size 640x480 with 2 Axes>"
      ]
     },
     "metadata": {},
     "output_type": "display_data"
    }
   ],
   "source": [
    "from sklearn.model_selection import cross_validate, cross_val_predict\n",
    "from scipy import stats\n",
    "import numpy as np\n",
    "from sklearn.metrics import confusion_matrix, ConfusionMatrixDisplay\n",
    "import matplotlib.pyplot as plt\n",
    "\n",
    "y_pred = cross_val_predict(oneNN,X,y,cv=10)\n",
    "conf_mat = confusion_matrix(y, y_pred)\n",
    "\n",
    "disp = ConfusionMatrixDisplay(conf_mat).plot()\n",
    "\n",
    "scorings = ['accuracy', 'precision_micro', 'recall_micro', 'f1_macro']\n",
    "scores = cross_validate(oneNN,X,y, scoring=scorings, cv=10)\n",
    "\n",
    "scores_acc = scores['test_accuracy']\n",
    "mean = scores_acc.mean()\n",
    "std = scores_acc.std()\n",
    "inf, sup = stats.norm.interval(0.95, loc=mean, \n",
    "                               scale=std/np.sqrt(len(scores_acc)))\n",
    "print(\"\\nMean Accuracy: %0.2f Standard Deviation: %0.2f\" % (mean, std))\n",
    "print (\"Accuracy Confidence Interval (95%%): (%0.2f, %0.2f)\\n\" % \n",
    "       (inf, sup))\n",
    "\n",
    "scores_prec = scores['test_precision_micro']\n",
    "mean = scores_prec.mean()\n",
    "std = scores_prec.std()\n",
    "inf, sup = stats.norm.interval(0.95, loc=mean, \n",
    "                               scale=std/np.sqrt(len(scores_prec)))\n",
    "print(\"Mean Micro Precision: %0.2f Standard Deviation: %0.2f\" % (mean, std))\n",
    "print (\"Micro Precision Confidence Interval (95%%): (%0.2f, %0.2f)\\n\" % \n",
    "       (inf, sup))\n",
    "\n",
    "scores_rec = scores['test_recall_micro']\n",
    "mean = scores_rec.mean()\n",
    "std = scores_rec.std()\n",
    "inf, sup = stats.norm.interval(0.95, loc=mean, \n",
    "                               scale=std/np.sqrt(len(scores_rec)))\n",
    "print(\"Mean Micro Recall: %0.2f Standard Deviation: %0.2f\" % (mean, std))\n",
    "print (\"Micro Recall Confidence Interval (95%%): (%0.2f, %0.2f)\\n\" % \n",
    "       (inf, sup))\n",
    "\n",
    "scores_f1 = scores['test_f1_macro']\n",
    "mean = scores_f1.mean()\n",
    "std = scores_f1.std()\n",
    "inf, sup = stats.norm.interval(0.95, loc=mean, \n",
    "                               scale=std/np.sqrt(len(scores_f1)))\n",
    "print(\"Mean Macro F1: %0.2f Standard Deviation: %0.2f\" % (mean, std))\n",
    "print (\"Macro F1 Confidence Interval (95%%): (%0.2f, %0.2f)\\n\" % \n",
    "       (inf, sup))\n"
   ]
  },
  {
   "cell_type": "code",
   "execution_count": 7,
   "metadata": {},
   "outputs": [
    {
     "name": "stdout",
     "output_type": "stream",
     "text": [
      "              precision    recall  f1-score   support\n",
      "\n",
      "           0       0.91      0.86      0.88       212\n",
      "           1       0.92      0.95      0.93       357\n",
      "\n",
      "    accuracy                           0.92       569\n",
      "   macro avg       0.91      0.90      0.91       569\n",
      "weighted avg       0.92      0.92      0.92       569\n",
      "\n"
     ]
    }
   ],
   "source": [
    "print(classification_report(y,y_pred))"
   ]
  },
  {
   "cell_type": "markdown",
   "metadata": {},
   "source": [
    "4. Use o classificador K Vizinhos Mais Próximos com o método indicado (use 10 partições) no dataset breast cancer para realizar a busca pelo melhor valor de K. Apresente a melhor acurácia obtida, o desvio padrão,o intervalo de confiança a 95% e o valor de K correspondente. "
   ]
  },
  {
   "cell_type": "code",
   "execution_count": 8,
   "metadata": {},
   "outputs": [
    {
     "name": "stdout",
     "output_type": "stream",
     "text": [
      "Best params is: {'n_neighbors': 8}\n",
      "The performance with that param was 92.98%\n",
      "\n",
      "Mean Accuracy: 0.93 Standard Deviation: 0.03\n",
      "Accuracy Confidence Interval (95%): (0.91, 0.95)\n",
      "\n"
     ]
    }
   ],
   "source": [
    "from sklearn.model_selection import GridSearchCV\n",
    "\n",
    "parameters = {'n_neighbors':list(range(1,10))}\n",
    "knn = KNeighborsClassifier()\n",
    "clf = GridSearchCV(knn, parameters,cv=10)\n",
    "clf.fit(X,y)\n",
    "\n",
    "print(f\"Best params is: {clf.best_params_}\")\n",
    "print(\"The performance with that param was %0.2f%%\" % (clf.best_score_ * 100))\n",
    "\n",
    "best = clf.best_params_['n_neighbors'] - 1\n",
    "\n",
    "scores = np.array ([clf.cv_results_[f'split{i}_test_score'][best] for i in range(10)])\n",
    "\n",
    "# scores = np.array ([clf.cv_results_['split0_test_score'][best], \n",
    "#                       clf.cv_results_['split1_test_score'][best], \n",
    "#                       clf.cv_results_['split2_test_score'][best], \n",
    "#                       clf.cv_results_['split3_test_score'][best], \n",
    "#                       clf.cv_results_['split4_test_score'][best], \n",
    "#                       clf.cv_results_['split5_test_score'][best], \n",
    "#                       clf.cv_results_['split6_test_score'][best], \n",
    "#                       clf.cv_results_['split7_test_score'][best], \n",
    "#                       clf.cv_results_['split8_test_score'][best], \n",
    "#                       clf.cv_results_['split9_test_score'][best]])\n",
    "\n",
    "\n",
    "mean = scores.mean()\n",
    "std = scores.std()\n",
    "inf, sup = stats.norm.interval(0.95, loc=mean, \n",
    "                               scale=std/np.sqrt(len(scores)))\n",
    "\n",
    "print(\"\\nMean Accuracy: %0.2f Standard Deviation: %0.2f\" % (mean, std))\n",
    "print (\"Accuracy Confidence Interval (95%%): (%0.2f, %0.2f)\\n\" % (inf, sup)) "
   ]
  },
  {
   "cell_type": "markdown",
   "metadata": {},
   "source": [
    "5. Use o classificador K Vizinhos Mais Próximos com o método indicado no dataset breast cancer para realizar a busca pelo melhor valor de K sem possibilidade de superajuste. Apresente a melhor acurácia obtida, o desvio padrão e o intervalo de confiança a 95%."
   ]
  },
  {
   "cell_type": "code",
   "execution_count": 9,
   "metadata": {},
   "outputs": [
    {
     "name": "stdout",
     "output_type": "stream",
     "text": [
      "[0.85964912 0.89473684 0.9122807  0.96491228 0.9122807  0.92982456\n",
      " 0.94736842 0.98245614 0.96491228 0.94642857 0.87719298 0.89473684\n",
      " 0.87719298 0.96491228 0.94736842 0.98245614 0.9122807  0.94736842\n",
      " 0.92982456 0.96428571 0.92982456 0.92982456 0.89473684 0.98245614\n",
      " 0.92982456 0.9122807  0.89473684 0.94736842 0.89473684 0.92857143]\n",
      "\n",
      "Mean Accuracy: 0.93 Standard Deviation: 0.03\n",
      "Accuracy Confidence Interval (95%): (0.92, 0.94)\n",
      "\n"
     ]
    }
   ],
   "source": [
    "from sklearn.model_selection import cross_val_score, RepeatedStratifiedKFold\n",
    "\n",
    "parameters = {'n_neighbors': list(range(1,10))}\n",
    "\n",
    "knn = KNeighborsClassifier()\n",
    "\n",
    "clf = GridSearchCV(estimator=knn, param_grid = parameters, \n",
    "                  scoring='accuracy', cv = 4)\n",
    "\n",
    "rkf = RepeatedStratifiedKFold(n_splits=10, n_repeats=3)\n",
    "\n",
    "scores = cross_val_score(clf, X, y, scoring='accuracy', \n",
    "                         cv = rkf)\n",
    "\n",
    "print(scores)\n",
    "\n",
    "mean = scores.mean()\n",
    "std = scores.std()\n",
    "inf, sup = stats.norm.interval(0.95, loc=mean, \n",
    "                               scale=std/np.sqrt(len(scores)))\n",
    "\n",
    "print(\"\\nMean Accuracy: %0.2f Standard Deviation: %0.2f\" % (mean, std))\n",
    "print(\"Accuracy Confidence Interval (95%%): (%0.2f, %0.2f)\\n\" % \n",
    "       (inf, sup))"
   ]
  },
  {
   "cell_type": "markdown",
   "metadata": {},
   "source": [
    "6. Repita o procedimento proposto no exercício 9 somente trocando o classificador para uma Árvore de Decisão. Compare o desempenho obtido pelo K Vizinhos Mais Próximos com a Árvore de Decisão utilizando o teste T e o de Wilcoxon. Compare os dois resultados e indique em qual dos testes é mais fácil mostrar a diferença entre os métodos."
   ]
  },
  {
   "cell_type": "code",
   "execution_count": 10,
   "metadata": {},
   "outputs": [
    {
     "name": "stdout",
     "output_type": "stream",
     "text": [
      "[0.85964912 0.87719298 0.92982456 0.94736842 0.98245614 0.96491228\n",
      " 0.87719298 0.98245614 0.9122807  0.92857143 0.9122807  0.92982456\n",
      " 0.9122807  0.92982456 0.9122807  0.84210526 0.96491228 0.94736842\n",
      " 1.         0.91071429 0.94736842 0.92982456 0.9122807  0.94736842\n",
      " 0.92982456 0.94736842 0.96491228 0.92982456 0.96491228 0.91071429]\n",
      "\n",
      "Mean Accuracy: 0.93 Standard Deviation: 0.04\n",
      "Accuracy Confidence Interval (95%): (0.92, 0.94)\n",
      "\n"
     ]
    }
   ],
   "source": [
    "from sklearn.tree import DecisionTreeClassifier\n",
    "\n",
    "dT = DecisionTreeClassifier()\n",
    "\n",
    "parameters = {'max_depth': [2, 3], 'min_samples_split': [2, 4]}\n",
    "\n",
    "clf = GridSearchCV(estimator=dT, param_grid = parameters, \n",
    "                  scoring='accuracy', cv = 4)\n",
    "\n",
    "rkf = RepeatedStratifiedKFold(n_splits=10, n_repeats=3)\n",
    "dtscores = cross_val_score(clf, X, y, scoring='accuracy', \n",
    "                         cv = rkf)\n",
    "\n",
    "print(dtscores)\n",
    "\n",
    "mean = dtscores.mean()\n",
    "std = dtscores.std()\n",
    "inf, sup = stats.norm.interval(0.95, loc=mean, \n",
    "                               scale=std/np.sqrt(len(dtscores)))\n",
    "\n",
    "print(\"\\nMean Accuracy: %0.2f Standard Deviation: %0.2f\" % (mean, std))\n",
    "print(\"Accuracy Confidence Interval (95%%): (%0.2f, %0.2f)\\n\" % \n",
    "       (inf, sup)) "
   ]
  },
  {
   "cell_type": "code",
   "execution_count": 14,
   "metadata": {},
   "outputs": [],
   "source": [
    "# Python implementation of the Nadeau and Bengio correction of dependent Student's t-test\n",
    "# using the equation stated in https://www.cs.waikato.ac.nz/~eibe/pubs/bouckaert_and_frank.pdf\n",
    "\n",
    "from scipy.stats import t\n",
    "from math import sqrt\n",
    "from statistics import stdev\n",
    "\n",
    "def corrected_dependent_ttest(data1, data2, n_training_samples, n_test_samples, alpha):\n",
    "    n = len(data1)\n",
    "    differences = [(data1[i]-data2[i]) for i in range(n)]\n",
    "    sd = stdev(differences)\n",
    "    divisor = 1 / n * sum(differences)\n",
    "    test_training_ratio = n_test_samples / n_training_samples\n",
    "    denominator = sqrt(1 / n + test_training_ratio) * sd\n",
    "    t_stat = divisor / denominator\n",
    "    # degrees of freedom\n",
    "    df = n - 1\n",
    "    # calculate the critical value\n",
    "    cv = t.ppf(1.0 - alpha, df)\n",
    "    # calculate the p-value\n",
    "    p = (1.0 - t.cdf(abs(t_stat), df)) * 2.0\n",
    "    # return everything\n",
    "    return t_stat, df, cv, p"
   ]
  },
  {
   "cell_type": "code",
   "execution_count": 18,
   "metadata": {},
   "outputs": [
    {
     "name": "stdout",
     "output_type": "stream",
     "text": [
      "Corrected T Test\n",
      "t: -0.05 p-value: 0.96\n",
      "\n",
      "Wilcoxon Test\n",
      "w: 148.00 p-value: 0.69\n",
      "\n"
     ]
    }
   ],
   "source": [
    "from scipy.stats import wilcoxon\n",
    "\n",
    "print('Corrected T Test')\n",
    "s,p,cv, p = corrected_dependent_ttest(scores, dtscores, len(X_train), len(X_test), 0.05)\n",
    "print(\"t: %0.2f p-value: %0.2f\\n\" % (s,p))\n",
    "\n",
    "\n",
    "print ('Wilcoxon Test')\n",
    "s,p = wilcoxon(scores,dtscores, method='approx') # é necessário definir o método para evitar um warning\n",
    "print(\"w: %0.2f p-value: %0.2f\\n\" % (s,p))"
   ]
  }
 ],
 "metadata": {
  "kernelspec": {
   "display_name": "Python 3",
   "language": "python",
   "name": "python3"
  },
  "language_info": {
   "codemirror_mode": {
    "name": "ipython",
    "version": 3
   },
   "file_extension": ".py",
   "mimetype": "text/x-python",
   "name": "python",
   "nbconvert_exporter": "python",
   "pygments_lexer": "ipython3",
   "version": "3.11.5"
  },
  "orig_nbformat": 4
 },
 "nbformat": 4,
 "nbformat_minor": 2
}
