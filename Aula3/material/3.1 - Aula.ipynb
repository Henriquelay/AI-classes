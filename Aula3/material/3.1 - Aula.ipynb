{
 "cells": [
  {
   "cell_type": "markdown",
   "id": "negative-sapphire",
   "metadata": {},
   "source": [
    "# Conceitos Básicos\n",
    "\n",
    "Scikit-learn: \n",
    "\n",
    "https://scikit-learn.org/stable/user_guide.html#user-guide\n",
    "\n",
    "http://scikit-learn.org/stable/tutorial/statistical_inference/supervised_learning.html\n",
    "\n",
    "http://scikit-learn.org/stable/modules/cross_validation.html\n",
    "\n",
    "teste t de Student: https://machinelearningmastery.com/how-to-code-the-students-t-test-from-scratch-in-python/\n",
    "\n",
    "teste não paramétrico de Wilcoxon: https://machinelearningmastery.com/nonparametric-statistical-significance-tests-in-python/\n"
   ]
  },
  {
   "cell_type": "markdown",
   "id": "coastal-checklist",
   "metadata": {},
   "source": [
    "Datasets "
   ]
  },
  {
   "cell_type": "code",
   "execution_count": 1,
   "id": "robust-quick",
   "metadata": {},
   "outputs": [
    {
     "name": "stdout",
     "output_type": "stream",
     "text": [
      "<class 'sklearn.utils._bunch.Bunch'>\n",
      "<class 'numpy.ndarray'>\n",
      "<class 'numpy.ndarray'>\n",
      "[0 1 2]\n",
      "(150, 4) (150,)\n",
      "[[5.1 3.5 1.4 0.2]\n",
      " [4.9 3.  1.4 0.2]\n",
      " [4.7 3.2 1.3 0.2]\n",
      " [4.6 3.1 1.5 0.2]\n",
      " [5.  3.6 1.4 0.2]\n",
      " [5.4 3.9 1.7 0.4]\n",
      " [4.6 3.4 1.4 0.3]\n",
      " [5.  3.4 1.5 0.2]\n",
      " [4.4 2.9 1.4 0.2]\n",
      " [4.9 3.1 1.5 0.1]\n",
      " [5.4 3.7 1.5 0.2]\n",
      " [4.8 3.4 1.6 0.2]\n",
      " [4.8 3.  1.4 0.1]\n",
      " [4.3 3.  1.1 0.1]\n",
      " [5.8 4.  1.2 0.2]\n",
      " [5.7 4.4 1.5 0.4]\n",
      " [5.4 3.9 1.3 0.4]\n",
      " [5.1 3.5 1.4 0.3]\n",
      " [5.7 3.8 1.7 0.3]\n",
      " [5.1 3.8 1.5 0.3]\n",
      " [5.4 3.4 1.7 0.2]\n",
      " [5.1 3.7 1.5 0.4]\n",
      " [4.6 3.6 1.  0.2]\n",
      " [5.1 3.3 1.7 0.5]\n",
      " [4.8 3.4 1.9 0.2]\n",
      " [5.  3.  1.6 0.2]\n",
      " [5.  3.4 1.6 0.4]\n",
      " [5.2 3.5 1.5 0.2]\n",
      " [5.2 3.4 1.4 0.2]\n",
      " [4.7 3.2 1.6 0.2]\n",
      " [4.8 3.1 1.6 0.2]\n",
      " [5.4 3.4 1.5 0.4]\n",
      " [5.2 4.1 1.5 0.1]\n",
      " [5.5 4.2 1.4 0.2]\n",
      " [4.9 3.1 1.5 0.2]\n",
      " [5.  3.2 1.2 0.2]\n",
      " [5.5 3.5 1.3 0.2]\n",
      " [4.9 3.6 1.4 0.1]\n",
      " [4.4 3.  1.3 0.2]\n",
      " [5.1 3.4 1.5 0.2]\n",
      " [5.  3.5 1.3 0.3]\n",
      " [4.5 2.3 1.3 0.3]\n",
      " [4.4 3.2 1.3 0.2]\n",
      " [5.  3.5 1.6 0.6]\n",
      " [5.1 3.8 1.9 0.4]\n",
      " [4.8 3.  1.4 0.3]\n",
      " [5.1 3.8 1.6 0.2]\n",
      " [4.6 3.2 1.4 0.2]\n",
      " [5.3 3.7 1.5 0.2]\n",
      " [5.  3.3 1.4 0.2]\n",
      " [7.  3.2 4.7 1.4]\n",
      " [6.4 3.2 4.5 1.5]\n",
      " [6.9 3.1 4.9 1.5]\n",
      " [5.5 2.3 4.  1.3]\n",
      " [6.5 2.8 4.6 1.5]\n",
      " [5.7 2.8 4.5 1.3]\n",
      " [6.3 3.3 4.7 1.6]\n",
      " [4.9 2.4 3.3 1. ]\n",
      " [6.6 2.9 4.6 1.3]\n",
      " [5.2 2.7 3.9 1.4]\n",
      " [5.  2.  3.5 1. ]\n",
      " [5.9 3.  4.2 1.5]\n",
      " [6.  2.2 4.  1. ]\n",
      " [6.1 2.9 4.7 1.4]\n",
      " [5.6 2.9 3.6 1.3]\n",
      " [6.7 3.1 4.4 1.4]\n",
      " [5.6 3.  4.5 1.5]\n",
      " [5.8 2.7 4.1 1. ]\n",
      " [6.2 2.2 4.5 1.5]\n",
      " [5.6 2.5 3.9 1.1]\n",
      " [5.9 3.2 4.8 1.8]\n",
      " [6.1 2.8 4.  1.3]\n",
      " [6.3 2.5 4.9 1.5]\n",
      " [6.1 2.8 4.7 1.2]\n",
      " [6.4 2.9 4.3 1.3]\n",
      " [6.6 3.  4.4 1.4]\n",
      " [6.8 2.8 4.8 1.4]\n",
      " [6.7 3.  5.  1.7]\n",
      " [6.  2.9 4.5 1.5]\n",
      " [5.7 2.6 3.5 1. ]\n",
      " [5.5 2.4 3.8 1.1]\n",
      " [5.5 2.4 3.7 1. ]\n",
      " [5.8 2.7 3.9 1.2]\n",
      " [6.  2.7 5.1 1.6]\n",
      " [5.4 3.  4.5 1.5]\n",
      " [6.  3.4 4.5 1.6]\n",
      " [6.7 3.1 4.7 1.5]\n",
      " [6.3 2.3 4.4 1.3]\n",
      " [5.6 3.  4.1 1.3]\n",
      " [5.5 2.5 4.  1.3]\n",
      " [5.5 2.6 4.4 1.2]\n",
      " [6.1 3.  4.6 1.4]\n",
      " [5.8 2.6 4.  1.2]\n",
      " [5.  2.3 3.3 1. ]\n",
      " [5.6 2.7 4.2 1.3]\n",
      " [5.7 3.  4.2 1.2]\n",
      " [5.7 2.9 4.2 1.3]\n",
      " [6.2 2.9 4.3 1.3]\n",
      " [5.1 2.5 3.  1.1]\n",
      " [5.7 2.8 4.1 1.3]\n",
      " [6.3 3.3 6.  2.5]\n",
      " [5.8 2.7 5.1 1.9]\n",
      " [7.1 3.  5.9 2.1]\n",
      " [6.3 2.9 5.6 1.8]\n",
      " [6.5 3.  5.8 2.2]\n",
      " [7.6 3.  6.6 2.1]\n",
      " [4.9 2.5 4.5 1.7]\n",
      " [7.3 2.9 6.3 1.8]\n",
      " [6.7 2.5 5.8 1.8]\n",
      " [7.2 3.6 6.1 2.5]\n",
      " [6.5 3.2 5.1 2. ]\n",
      " [6.4 2.7 5.3 1.9]\n",
      " [6.8 3.  5.5 2.1]\n",
      " [5.7 2.5 5.  2. ]\n",
      " [5.8 2.8 5.1 2.4]\n",
      " [6.4 3.2 5.3 2.3]\n",
      " [6.5 3.  5.5 1.8]\n",
      " [7.7 3.8 6.7 2.2]\n",
      " [7.7 2.6 6.9 2.3]\n",
      " [6.  2.2 5.  1.5]\n",
      " [6.9 3.2 5.7 2.3]\n",
      " [5.6 2.8 4.9 2. ]\n",
      " [7.7 2.8 6.7 2. ]\n",
      " [6.3 2.7 4.9 1.8]\n",
      " [6.7 3.3 5.7 2.1]\n",
      " [7.2 3.2 6.  1.8]\n",
      " [6.2 2.8 4.8 1.8]\n",
      " [6.1 3.  4.9 1.8]\n",
      " [6.4 2.8 5.6 2.1]\n",
      " [7.2 3.  5.8 1.6]\n",
      " [7.4 2.8 6.1 1.9]\n",
      " [7.9 3.8 6.4 2. ]\n",
      " [6.4 2.8 5.6 2.2]\n",
      " [6.3 2.8 5.1 1.5]\n",
      " [6.1 2.6 5.6 1.4]\n",
      " [7.7 3.  6.1 2.3]\n",
      " [6.3 3.4 5.6 2.4]\n",
      " [6.4 3.1 5.5 1.8]\n",
      " [6.  3.  4.8 1.8]\n",
      " [6.9 3.1 5.4 2.1]\n",
      " [6.7 3.1 5.6 2.4]\n",
      " [6.9 3.1 5.1 2.3]\n",
      " [5.8 2.7 5.1 1.9]\n",
      " [6.8 3.2 5.9 2.3]\n",
      " [6.7 3.3 5.7 2.5]\n",
      " [6.7 3.  5.2 2.3]\n",
      " [6.3 2.5 5.  1.9]\n",
      " [6.5 3.  5.2 2. ]\n",
      " [6.2 3.4 5.4 2.3]\n",
      " [5.9 3.  5.1 1.8]]\n",
      "[0 0 0 0 0 0 0 0 0 0 0 0 0 0 0 0 0 0 0 0 0 0 0 0 0 0 0 0 0 0 0 0 0 0 0 0 0\n",
      " 0 0 0 0 0 0 0 0 0 0 0 0 0 1 1 1 1 1 1 1 1 1 1 1 1 1 1 1 1 1 1 1 1 1 1 1 1\n",
      " 1 1 1 1 1 1 1 1 1 1 1 1 1 1 1 1 1 1 1 1 1 1 1 1 1 1 2 2 2 2 2 2 2 2 2 2 2\n",
      " 2 2 2 2 2 2 2 2 2 2 2 2 2 2 2 2 2 2 2 2 2 2 2 2 2 2 2 2 2 2 2 2 2 2 2 2 2\n",
      " 2 2]\n"
     ]
    }
   ],
   "source": [
    "import numpy as np\n",
    "from sklearn import datasets\n",
    "\n",
    "iris = datasets.load_iris()\n",
    "iris_X = iris.data\n",
    "iris_y = iris.target\n",
    "\n",
    "print(type(iris))\n",
    "print(type(iris_X))\n",
    "print(type(iris_y))\n",
    "\n",
    "labels = np.unique(iris_y)\n",
    "print (labels)\n",
    "print (iris.data.shape, iris.target.shape)\n",
    "\n",
    "print(iris_X)\n",
    "print(iris_y)\n"
   ]
  },
  {
   "cell_type": "markdown",
   "id": "taken-increase",
   "metadata": {},
   "source": [
    "Distribuição de classes"
   ]
  },
  {
   "cell_type": "code",
   "execution_count": 2,
   "id": "settled-touch",
   "metadata": {},
   "outputs": [
    {
     "name": "stdout",
     "output_type": "stream",
     "text": [
      "[(0, 0.3333333333333333), (1, 0.3333333333333333), (2, 0.3333333333333333)]\n"
     ]
    }
   ],
   "source": [
    "def classDistribution (classData):\n",
    "\n",
    "    tam = len(classData)\n",
    "    labels = np.unique(classData)\n",
    "    \n",
    "    classDistr = []\n",
    "    for class_value in labels:   \n",
    "        cvc = len([1 for i in classData if i == class_value])\n",
    "        classDistr += [(class_value, cvc/tam)]\n",
    "\n",
    "    return classDistr\n",
    "\n",
    "print(classDistribution(iris_y))"
   ]
  },
  {
   "cell_type": "markdown",
   "id": "attached-ecuador",
   "metadata": {},
   "source": [
    "Treino e Teste Vizinho Mais Próximo"
   ]
  },
  {
   "cell_type": "code",
   "execution_count": 3,
   "id": "civic-germany",
   "metadata": {},
   "outputs": [
    {
     "name": "stdout",
     "output_type": "stream",
     "text": [
      "[1 1 1 0 0 0 2 1 2 0]\n",
      "[1 2 1 0 0 0 2 1 2 0]\n"
     ]
    }
   ],
   "source": [
    "np.random.seed(0)\n",
    "indices = np.random.permutation(len(iris_X))\n",
    "iris_X_train = iris_X[indices[:-10]]\n",
    "iris_y_train = iris_y[indices[:-10]]\n",
    "iris_X_test = iris_X[indices[-10:]]\n",
    "iris_y_test = iris_y[indices[-10:]]\n",
    "\n",
    "from sklearn.neighbors import KNeighborsClassifier\n",
    "oneNN = KNeighborsClassifier(n_neighbors=1)\n",
    "oneNN.fit(iris_X_train, iris_y_train) \n",
    "print(iris_y_test)\n",
    "print(oneNN.predict(iris_X_test))"
   ]
  },
  {
   "cell_type": "markdown",
   "id": "clear-clearance",
   "metadata": {},
   "source": [
    "Treino e Teste Vizinho Mais Próximo"
   ]
  },
  {
   "cell_type": "code",
   "execution_count": 4,
   "id": "detected-stack",
   "metadata": {},
   "outputs": [
    {
     "name": "stdout",
     "output_type": "stream",
     "text": [
      "(90, 4) (90,)\n",
      "(60, 4) (60,)\n",
      "[2 1 0 2 0 2 0 1 1 1 2 1 1 1 1 0 1 1 0 0 2 1 0 0 2 0 0 1 1 0 2 1 0 2 2 1 0\n",
      " 1 1 1 2 0 2 0 0 1 2 2 2 2 1 2 1 1 2 2 2 2 1 2]\n",
      "[2 1 0 2 0 2 0 1 1 1 2 1 1 1 1 0 1 1 0 0 2 1 0 0 2 0 0 1 1 0 2 1 0 2 2 1 0\n",
      " 2 1 1 2 0 2 0 0 1 2 2 1 2 1 2 1 1 1 1 1 2 1 2]\n",
      "accuracy =  0.9166666666666666\n"
     ]
    }
   ],
   "source": [
    "from sklearn.model_selection import train_test_split\n",
    "\n",
    "X_train, X_test, y_train, y_test = train_test_split(iris.data, \n",
    "                    iris.target, test_size=0.4, random_state=0)\n",
    "print(X_train.shape, y_train.shape)\n",
    "print(X_test.shape, y_test.shape)\n",
    "\n",
    "oneNN.fit(X_train, y_train) \n",
    "print(y_test)\n",
    "y_pred = oneNN.predict(X_test)\n",
    "print(y_pred)\n",
    "\n",
    "print ('accuracy = ', oneNN.score(X_test, y_test))"
   ]
  },
  {
   "cell_type": "markdown",
   "id": "aggressive-uruguay",
   "metadata": {},
   "source": [
    "Matriz de Confusão"
   ]
  },
  {
   "cell_type": "code",
   "execution_count": 5,
   "id": "bulgarian-cameroon",
   "metadata": {},
   "outputs": [
    {
     "name": "stdout",
     "output_type": "stream",
     "text": [
      "[[16  0  0]\n",
      " [ 0 22  1]\n",
      " [ 0  4 17]]\n"
     ]
    },
    {
     "data": {
      "image/png": "[encoded data removed]",
      "text/plain": [
       "<Figure size 640x480 with 2 Axes>"
      ]
     },
     "metadata": {},
     "output_type": "display_data"
    }
   ],
   "source": [
    "from sklearn.metrics import confusion_matrix, ConfusionMatrixDisplay\n",
    "import matplotlib.pyplot as plt\n",
    "\n",
    "cm = confusion_matrix(y_test, y_pred)\n",
    "print (cm)\n",
    "disp = ConfusionMatrixDisplay(cm,display_labels=oneNN.classes_).plot()"
   ]
  },
  {
   "cell_type": "markdown",
   "id": "controlled-savings",
   "metadata": {},
   "source": [
    "Outras Métricas - Micro, Macro, Weighted "
   ]
  },
  {
   "cell_type": "code",
   "execution_count": 6,
   "id": "several-astrology",
   "metadata": {},
   "outputs": [
    {
     "name": "stdout",
     "output_type": "stream",
     "text": [
      "accuracy score: 0.92\n",
      "\n",
      "balanced accuracy score: 0.93\n",
      "\n",
      "precision score\n",
      "macro: 0.92\n",
      "micro: 0.92\n",
      "weighted: 0.92\n",
      "\n",
      "recall score\n",
      "macro: 0.93\n",
      "micro: 0.92\n",
      "weighted: 0.92\n",
      "\n",
      "fmeasure score\n",
      "macro: 0.92\n",
      "micro: 0.92\n",
      "weighted: 0.92\n",
      "\n"
     ]
    }
   ],
   "source": [
    "from sklearn.metrics import accuracy_score, balanced_accuracy_score, precision_score, recall_score, f1_score\n",
    "\n",
    "print(\"accuracy score: %.2f\\n\" % accuracy_score(y_pred, y_test))\n",
    "print(\"balanced accuracy score: %.2f\\n\" % balanced_accuracy_score(y_pred, y_test))\n",
    "\n",
    "print(\"precision score\")\n",
    "print(\"macro: %.2f\" % precision_score(y_pred, y_test, average='macro'))\n",
    "print(\"micro: %.2f\" % precision_score(y_pred, y_test, average='micro'))\n",
    "print(\"weighted: %.2f\\n\" % precision_score(y_pred, y_test, average='weighted'))\n",
    "\n",
    "print(\"recall score\")\n",
    "print(\"macro: %.2f\" % recall_score(y_pred, y_test, average='macro'))\n",
    "print(\"micro: %.2f\" % recall_score(y_pred, y_test, average='micro'))\n",
    "print(\"weighted: %.2f\\n\" % recall_score(y_pred, y_test, average='weighted'))\n",
    "\n",
    "print(\"fmeasure score\")\n",
    "print(\"macro: %.2f\" % f1_score(y_pred, y_test, average='macro'))\n",
    "print(\"micro: %.2f\" % f1_score(y_pred, y_test, average='micro'))\n",
    "print(\"weighted: %.2f\\n\" % f1_score(y_pred, y_test, average='weighted'))"
   ]
  },
  {
   "cell_type": "markdown",
   "id": "strategic-principle",
   "metadata": {},
   "source": [
    "Medidas de Avaliação"
   ]
  },
  {
   "cell_type": "code",
   "execution_count": 7,
   "id": "thick-chaos",
   "metadata": {},
   "outputs": [
    {
     "name": "stdout",
     "output_type": "stream",
     "text": [
      "[[16  0  0]\n",
      " [19  3  1]\n",
      " [15  2  4]] \n",
      "\n",
      "accuracy score: 0.38\n",
      "\n",
      "balanced accuracy score: 0.57\n",
      "\n",
      "precision score\n",
      "macro: 0.44\n",
      "micro: 0.38\n",
      "weighted: 0.86\n",
      "\n",
      "recall score\n",
      "macro: 0.57\n",
      "micro: 0.38\n",
      "weighted: 0.38\n",
      "\n",
      "fmeasure score\n",
      "macro: 0.34\n",
      "micro: 0.38\n",
      "weighted: 0.45\n",
      "\n"
     ]
    }
   ],
   "source": [
    "y_pred = [0]*50 + [1, 2]*5\n",
    "\n",
    "print (confusion_matrix(y_test, y_pred), '\\n')\n",
    "\n",
    "print(\"accuracy score: %.2f\\n\" % accuracy_score(y_pred, y_test))\n",
    "print(\"balanced accuracy score: %.2f\\n\" % balanced_accuracy_score(y_pred, y_test))\n",
    "\n",
    "print(\"precision score\")\n",
    "print(\"macro: %.2f\" % precision_score(y_pred, y_test, average='macro'))\n",
    "print(\"micro: %.2f\" % precision_score(y_pred, y_test, average='micro'))\n",
    "print(\"weighted: %.2f\\n\" % precision_score(y_pred, y_test, average='weighted'))\n",
    "\n",
    "print(\"recall score\")\n",
    "print(\"macro: %.2f\" % recall_score(y_pred, y_test, average='macro'))\n",
    "print(\"micro: %.2f\" % recall_score(y_pred, y_test, average='micro'))\n",
    "print(\"weighted: %.2f\\n\" % recall_score(y_pred, y_test, average='weighted'))\n",
    "\n",
    "print(\"fmeasure score\")\n",
    "print(\"macro: %.2f\" % f1_score(y_pred, y_test, average='macro'))\n",
    "print(\"micro: %.2f\" % f1_score(y_pred, y_test, average='micro'))\n",
    "print(\"weighted: %.2f\\n\" % f1_score(y_pred, y_test, average='weighted'))"
   ]
  },
  {
   "cell_type": "markdown",
   "id": "julian-composition",
   "metadata": {},
   "source": [
    "Métodos de Amostragem"
   ]
  },
  {
   "cell_type": "markdown",
   "id": "impossible-credits",
   "metadata": {},
   "source": [
    "Resubstituição"
   ]
  },
  {
   "cell_type": "code",
   "execution_count": 8,
   "id": "packed-mortgage",
   "metadata": {},
   "outputs": [
    {
     "name": "stdout",
     "output_type": "stream",
     "text": [
      "[[50  0  0]\n",
      " [ 0 50  0]\n",
      " [ 0  0 50]]\n"
     ]
    },
    {
     "data": {
      "image/png": "[encoded data removed]",
      "text/plain": [
       "<Figure size 640x480 with 2 Axes>"
      ]
     },
     "metadata": {},
     "output_type": "display_data"
    }
   ],
   "source": [
    "oneNN = KNeighborsClassifier(n_neighbors=1)\n",
    "oneNN.fit(iris_X, iris_y) \n",
    "y_test = iris_y\n",
    "y_pred = oneNN.predict(iris_X)\n",
    "cm = confusion_matrix(y_test, y_pred)\n",
    "print (cm)\n",
    "disp = ConfusionMatrixDisplay(cm).plot()"
   ]
  },
  {
   "cell_type": "markdown",
   "id": "interior-pizza",
   "metadata": {},
   "source": [
    "Divisão Percentual"
   ]
  },
  {
   "cell_type": "code",
   "execution_count": 9,
   "id": "forced-charge",
   "metadata": {},
   "outputs": [
    {
     "name": "stdout",
     "output_type": "stream",
     "text": [
      "[[21  0  0]\n",
      " [ 0 28  2]\n",
      " [ 0  5 19]]\n"
     ]
    },
    {
     "data": {
      "image/png": "[encoded data removed]",
      "text/plain": [
       "<Figure size 640x480 with 2 Axes>"
      ]
     },
     "metadata": {},
     "output_type": "display_data"
    }
   ],
   "source": [
    "X_train, X_test, y_train, y_test = train_test_split(iris.data, \n",
    "                    iris.target, test_size=0.5, random_state=0)\n",
    "oneNN.fit(X_train, y_train) \n",
    "y_pred = oneNN.predict(X_test)\n",
    "cm = confusion_matrix(y_test, y_pred)\n",
    "print (cm)\n",
    "disp = ConfusionMatrixDisplay(cm).plot()"
   ]
  },
  {
   "cell_type": "markdown",
   "id": "genuine-projector",
   "metadata": {},
   "source": [
    "Validação Cruzada"
   ]
  },
  {
   "cell_type": "code",
   "execution_count": 10,
   "id": "sized-machinery",
   "metadata": {},
   "outputs": [
    {
     "name": "stdout",
     "output_type": "stream",
     "text": [
      "fold accuracy: [0.96666667 0.96666667 0.93333333 0.93333333 1.        ]\n",
      "\n",
      "Mean Accuracy: 0.96 Standard Deviation: 0.02\n",
      "Accuracy Confidence Interval (95%): (0.94, 0.98)\n",
      "\n",
      "[[50  0  0]\n",
      " [ 0 47  3]\n",
      " [ 0  3 47]]\n"
     ]
    },
    {
     "data": {
      "image/png": "[encoded data removed]",
      "text/plain": [
       "<Figure size 640x480 with 2 Axes>"
      ]
     },
     "metadata": {},
     "output_type": "display_data"
    }
   ],
   "source": [
    "from sklearn.model_selection import cross_val_score\n",
    "from scipy import stats\n",
    "\n",
    "oneNN = KNeighborsClassifier(n_neighbors=1)\n",
    "scores = cross_val_score(oneNN, iris_X, iris_y, cv=5)\n",
    "\n",
    "print('fold accuracy:', scores)\n",
    "\n",
    "mean = scores.mean()\n",
    "std = scores.std()\n",
    "inf, sup = stats.norm.interval(0.95, loc=mean, \n",
    "                               scale=std/np.sqrt(len(scores)))\n",
    "\n",
    "print(\"\\nMean Accuracy: %0.2f Standard Deviation: %0.2f\" % (mean, std))\n",
    "print (\"Accuracy Confidence Interval (95%%): (%0.2f, %0.2f)\\n\" % \n",
    "       (inf, sup))    \n",
    "\n",
    "from sklearn.model_selection import cross_val_predict\n",
    "\n",
    "y_pred = cross_val_predict(oneNN, iris_X, iris_y, cv=5)\n",
    "conf_mat = confusion_matrix(iris_y, y_pred)\n",
    "\n",
    "print(conf_mat)\n",
    "\n",
    "disp = ConfusionMatrixDisplay(conf_mat).plot()\n"
   ]
  },
  {
   "cell_type": "markdown",
   "id": "experienced-plate",
   "metadata": {},
   "source": [
    "Validação Cruzada com Várias Métricas"
   ]
  },
  {
   "cell_type": "code",
   "execution_count": 11,
   "id": "polish-equipment",
   "metadata": {},
   "outputs": [
    {
     "name": "stdout",
     "output_type": "stream",
     "text": [
      "Mean Accuracy: 0.96 Standard Deviation: 0.02\n",
      "Mean Macro Precision: 0.96 Standard Deviation: 0.02\n",
      "Mean Macro Recall: 0.96 Standard Deviation: 0.02\n",
      "Mean Macro F1: 0.96 Standard Deviation: 0.03\n"
     ]
    }
   ],
   "source": [
    "from sklearn.model_selection import cross_validate\n",
    "scorings = ['accuracy', 'precision_macro', 'recall_macro', 'f1_macro']\n",
    "scores = cross_validate(oneNN, iris_X, iris_y, \n",
    "                        scoring=scorings, cv=5)\n",
    "\n",
    "scores_acc = scores['test_accuracy']\n",
    "print(\"Mean Accuracy: %0.2f Standard Deviation: %0.2f\" % \n",
    "      (scores_acc.mean(),scores_acc.std()))\n",
    "\n",
    "scores_prec = scores['test_precision_macro']\n",
    "print(\"Mean Macro Precision: %0.2f Standard Deviation: %0.2f\" % \n",
    "      (scores_prec.mean(),scores_prec.std()))\n",
    "\n",
    "scores_rec = scores['test_recall_macro']\n",
    "print(\"Mean Macro Recall: %0.2f Standard Deviation: %0.2f\" % \n",
    "      (scores_rec.mean(),scores_rec.std()))\n",
    "\n",
    "scores_f1 = scores['test_f1_macro']\n",
    "print(\"Mean Macro F1: %0.2f Standard Deviation: %0.2f\" % \n",
    "      (scores_f1.mean(),scores_f1.std()))"
   ]
  },
  {
   "cell_type": "markdown",
   "id": "annoying-sitting",
   "metadata": {},
   "source": [
    "Um Excluído"
   ]
  },
  {
   "cell_type": "code",
   "execution_count": 12,
   "id": "processed-quest",
   "metadata": {},
   "outputs": [
    {
     "name": "stdout",
     "output_type": "stream",
     "text": [
      "[1. 1. 1. 1. 1. 1. 1. 1. 1. 1. 1. 1. 1. 1. 1. 1. 1. 1. 1. 1. 1. 1. 1. 1.\n",
      " 1. 1. 1. 1. 1. 1. 1. 1. 1. 1. 1. 1. 1. 1. 1. 1. 1. 1. 1. 1. 1. 1. 1. 1.\n",
      " 1. 1. 1. 1. 1. 1. 1. 1. 1. 1. 1. 1. 1. 1. 1. 1. 1. 1. 1. 1. 1. 1. 0. 1.\n",
      " 0. 1. 1. 1. 1. 1. 1. 1. 1. 1. 1. 0. 1. 1. 1. 1. 1. 1. 1. 1. 1. 1. 1. 1.\n",
      " 1. 1. 1. 1. 1. 1. 1. 1. 1. 1. 0. 1. 1. 1. 1. 1. 1. 1. 1. 1. 1. 1. 1. 0.\n",
      " 1. 1. 1. 1. 1. 1. 1. 1. 1. 1. 1. 1. 1. 0. 1. 1. 1. 1. 1. 1. 1. 1. 1. 1.\n",
      " 1. 1. 1. 1. 1. 1.]\n",
      "\n",
      "Mean Accuracy: 0.96 Standard Deviation: 0.20\n",
      "Accuracy Confidence Interval (95%): (0.93, 0.99)\n",
      "\n"
     ]
    }
   ],
   "source": [
    "from sklearn.model_selection import LeaveOneOut\n",
    "\n",
    "loo = LeaveOneOut()\n",
    "scores = cross_val_score(oneNN, iris_X, iris_y, cv=loo)\n",
    "\n",
    "print(scores)\n",
    "\n",
    "mean = scores.mean()\n",
    "std = scores.std()\n",
    "inf, sup = stats.norm.interval(0.95, loc=mean, \n",
    "                               scale=std/np.sqrt(len(scores)))\n",
    "\n",
    "print(\"\\nMean Accuracy: %0.2f Standard Deviation: %0.2f\" % (mean, std))\n",
    "print (\"Accuracy Confidence Interval (95%%): (%0.2f, %0.2f)\\n\" % \n",
    "       (inf, sup))    \n"
   ]
  },
  {
   "cell_type": "markdown",
   "id": "blocked-bullet",
   "metadata": {},
   "source": [
    "Busca em Grade"
   ]
  },
  {
   "cell_type": "code",
   "execution_count": 13,
   "id": "relevant-growing",
   "metadata": {},
   "outputs": [
    {
     "name": "stdout",
     "output_type": "stream",
     "text": [
      "Best Mean Accuracy: 0.97\n",
      "Best Parameter Values:  {'n_neighbors': 5}\n",
      "Grid Search Result Infos:  dict_keys(['mean_fit_time', 'std_fit_time', 'mean_score_time', 'std_score_time', 'param_n_neighbors', 'params', 'split0_test_score', 'split1_test_score', 'split2_test_score', 'split3_test_score', 'split4_test_score', 'split5_test_score', 'split6_test_score', 'split7_test_score', 'split8_test_score', 'split9_test_score', 'mean_test_score', 'std_test_score', 'rank_test_score'])\n",
      "0.9333333333333333\n",
      "[1. 1. 1.]\n",
      "[1.         0.93333333 1.         0.93333333 0.86666667 1.\n",
      " 0.86666667 1.         1.         1.        ]\n",
      "[1.         0.93333333 1.         0.93333333 0.86666667 1.\n",
      " 0.93333333 1.         1.         1.        ]\n",
      "[1.         0.93333333 1.         1.         0.86666667 0.93333333\n",
      " 0.93333333 1.         1.         1.        ]\n",
      "0.96\n",
      "0.9666666666666666\n",
      "0.9666666666666668\n"
     ]
    }
   ],
   "source": [
    "from sklearn.model_selection import GridSearchCV\n",
    "\n",
    "kNN = KNeighborsClassifier()\n",
    "\n",
    "grade = {'n_neighbors': [1, 3, 5]}\n",
    "\n",
    "gs = GridSearchCV(estimator=kNN, param_grid = grade, \n",
    "                  scoring='accuracy', cv = 10)\n",
    "\n",
    "gs = gs.fit(iris_X, iris_y)\n",
    "\n",
    "print(\"Best Mean Accuracy: %0.2f\" % gs.best_score_)\n",
    "print(\"Best Parameter Values: \", gs.best_params_)\n",
    "print(\"Grid Search Result Infos: \", gs.cv_results_.keys())\n",
    "\n",
    "print(gs.cv_results_['split1_test_score'][0])\n",
    "print(gs.cv_results_['split7_test_score'])\n",
    "\n",
    "parciais1 = np.array ([gs.cv_results_['split0_test_score'][0], \n",
    "                       gs.cv_results_['split1_test_score'][0], \n",
    "                       gs.cv_results_['split2_test_score'][0], \n",
    "                       gs.cv_results_['split3_test_score'][0], \n",
    "                       gs.cv_results_['split4_test_score'][0], \n",
    "                       gs.cv_results_['split5_test_score'][0], \n",
    "                       gs.cv_results_['split6_test_score'][0], \n",
    "                       gs.cv_results_['split7_test_score'][0], \n",
    "                       gs.cv_results_['split8_test_score'][0], \n",
    "                       gs.cv_results_['split9_test_score'][0]])\n",
    "\n",
    "parciais2 = np.array ([gs.cv_results_['split0_test_score'][1], \n",
    "                       gs.cv_results_['split1_test_score'][1], \n",
    "                       gs.cv_results_['split2_test_score'][1], \n",
    "                       gs.cv_results_['split3_test_score'][1], \n",
    "                       gs.cv_results_['split4_test_score'][1], \n",
    "                       gs.cv_results_['split5_test_score'][1], \n",
    "                       gs.cv_results_['split6_test_score'][1], \n",
    "                       gs.cv_results_['split7_test_score'][1], \n",
    "                       gs.cv_results_['split8_test_score'][1], \n",
    "                       gs.cv_results_['split9_test_score'][1]])\n",
    "\n",
    "parciais3 = np.array ([gs.cv_results_['split0_test_score'][2], \n",
    "                       gs.cv_results_['split1_test_score'][2], \n",
    "                       gs.cv_results_['split2_test_score'][2], \n",
    "                       gs.cv_results_['split3_test_score'][2], \n",
    "                       gs.cv_results_['split4_test_score'][2], \n",
    "                       gs.cv_results_['split5_test_score'][2], \n",
    "                       gs.cv_results_['split6_test_score'][2], \n",
    "                       gs.cv_results_['split7_test_score'][2], \n",
    "                       gs.cv_results_['split8_test_score'][2], \n",
    "                       gs.cv_results_['split9_test_score'][2]]) \n",
    "\n",
    "print (parciais1)\n",
    "print (parciais2)\n",
    "print (parciais3)\n",
    "\n",
    "print (parciais1.mean())\n",
    "print (parciais2.mean())\n",
    "print (parciais3.mean())"
   ]
  },
  {
   "cell_type": "markdown",
   "id": "contrary-bunch",
   "metadata": {},
   "source": [
    "Validação Cruzada Aninhada Repetida"
   ]
  },
  {
   "cell_type": "code",
   "execution_count": 14,
   "id": "vocational-logistics",
   "metadata": {},
   "outputs": [
    {
     "name": "stdout",
     "output_type": "stream",
     "text": [
      "[0.96666667 0.96666667 0.9        0.96666667 0.96666667 0.93333333\n",
      " 0.93333333 0.96666667 1.         0.96666667 1.         0.9\n",
      " 1.         0.86666667 1.         1.         0.96666667 0.93333333\n",
      " 0.96666667 0.86666667 0.96666667 0.96666667 1.         0.96666667\n",
      " 0.96666667 0.96666667 0.93333333 1.         0.96666667 0.96666667]\n",
      "\n",
      "Mean Accuracy: 0.96 Standard Deviation: 0.04\n",
      "Accuracy Confidence Interval (95%): (0.95, 0.97)\n",
      "\n"
     ]
    }
   ],
   "source": [
    "from sklearn.model_selection import RepeatedStratifiedKFold\n",
    "\n",
    "grade = {'n_neighbors': [1, 3, 5]}\n",
    "\n",
    "gs = GridSearchCV(estimator=kNN, param_grid = grade, \n",
    "                  scoring='accuracy', cv = 4)\n",
    "\n",
    "rkf = RepeatedStratifiedKFold(n_splits=5, n_repeats=6)\n",
    "scores = cross_val_score(gs, iris_X, iris_y, scoring='accuracy', \n",
    "                         cv = rkf)\n",
    "\n",
    "print (scores)\n",
    "\n",
    "mean = scores.mean()\n",
    "std = scores.std()\n",
    "inf, sup = stats.norm.interval(0.95, loc=mean, \n",
    "                               scale=std/np.sqrt(len(scores)))\n",
    "\n",
    "print(\"\\nMean Accuracy: %0.2f Standard Deviation: %0.2f\" % (mean, std))\n",
    "print (\"Accuracy Confidence Interval (95%%): (%0.2f, %0.2f)\\n\" % \n",
    "       (inf, sup))"
   ]
  },
  {
   "cell_type": "code",
   "execution_count": 15,
   "id": "needed-grain",
   "metadata": {},
   "outputs": [
    {
     "name": "stdout",
     "output_type": "stream",
     "text": [
      "[1.         0.96666667 0.86666667 0.96666667 0.96666667 0.96666667\n",
      " 0.9        0.96666667 0.93333333 0.96666667 0.96666667 0.96666667\n",
      " 0.9        0.93333333 0.9        0.93333333 0.9        0.96666667\n",
      " 0.93333333 0.96666667 0.93333333 1.         0.96666667 0.93333333\n",
      " 0.86666667 1.         0.9        0.93333333 1.         0.96666667]\n",
      "\n",
      "Mean Accuracy: 0.95 Standard Deviation: 0.04\n",
      "Accuracy Confidence Interval (95%): (0.95, 0.97)\n",
      "\n"
     ]
    }
   ],
   "source": [
    "from sklearn.tree import DecisionTreeClassifier\n",
    "\n",
    "dT = DecisionTreeClassifier()\n",
    "\n",
    "dTGrade = {'max_depth': [2, 3], 'min_samples_split': [2, 4]}\n",
    "\n",
    "dTGS = GridSearchCV(estimator=dT, param_grid = dTGrade, \n",
    "                  scoring='accuracy', cv = 4)\n",
    "\n",
    "dTScores = cross_val_score(dTGS, iris_X, iris_y, scoring='accuracy', \n",
    "                           cv = rkf)\n",
    "\n",
    "print (dTScores)\n",
    "\n",
    "dTMean = dTScores.mean()\n",
    "dTStd = dTScores.std()\n",
    "dTInf, dTSup = stats.norm.interval(0.95, loc=mean, \n",
    "                                   scale=std/np.sqrt(len(scores)))\n",
    "\n",
    "print(\"\\nMean Accuracy: %0.2f Standard Deviation: %0.2f\" % (dTMean, \n",
    "                                                            dTStd))\n",
    "print (\"Accuracy Confidence Interval (95%%): (%0.2f, %0.2f)\\n\" % \n",
    "       (dTInf, dTSup))"
   ]
  },
  {
   "cell_type": "markdown",
   "id": "built-irish",
   "metadata": {},
   "source": [
    "Testes de Hipóteses"
   ]
  },
  {
   "cell_type": "code",
   "execution_count": 16,
   "id": "growing-perception",
   "metadata": {},
   "outputs": [
    {
     "name": "stdout",
     "output_type": "stream",
     "text": [
      "Paired T Test\n",
      "t: 1.42 p-value: 0.17\n",
      "\n",
      "Wilcoxon Test\n",
      "w: 102.50 p-value: 0.16\n",
      "\n"
     ]
    }
   ],
   "source": [
    "from scipy.stats import ttest_rel, wilcoxon\n",
    "\n",
    "print('Paired T Test')\n",
    "s,p = ttest_rel(scores,dTScores)\n",
    "print(\"t: %0.2f p-value: %0.2f\\n\" % (s,p))\n",
    "\n",
    "\n",
    "print ('Wilcoxon Test')\n",
    "s,p = wilcoxon (scores,dTScores, method='approx') # é necessário definir o método para evitar um warning\n",
    "print(\"w: %0.2f p-value: %0.2f\\n\" % (s,p))"
   ]
  }
 ],
 "metadata": {
  "kernelspec": {
   "display_name": "Python 3 (ipykernel)",
   "language": "python",
   "name": "python3"
  },
  "language_info": {
   "codemirror_mode": {
    "name": "ipython",
    "version": 3
   },
   "file_extension": ".py",
   "mimetype": "text/x-python",
   "name": "python",
   "nbconvert_exporter": "python",
   "pygments_lexer": "ipython3",
   "version": "3.12.2"
  }
 },
 "nbformat": 4,
 "nbformat_minor": 5
}
