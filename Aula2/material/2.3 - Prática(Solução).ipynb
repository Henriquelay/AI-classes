{
 "cells": [
  {
   "cell_type": "markdown",
   "metadata": {},
   "source": [
    "# Exercício de Fixação"
   ]
  },
  {
   "cell_type": "markdown",
   "metadata": {},
   "source": [
    "1. Use numpy para criar uma matriz (dataset) composta por valores numéricos aleatórios com 200 linhas (instâncias) e 12 colunas (características). Apresente o dataset."
   ]
  },
  {
   "cell_type": "code",
   "execution_count": 12,
   "metadata": {},
   "outputs": [
    {
     "data": {
      "text/plain": [
       "array([[0.37454012, 0.95071431, 0.73199394, ..., 0.70807258, 0.02058449,\n",
       "        0.96990985],\n",
       "       [0.83244264, 0.21233911, 0.18182497, ..., 0.13949386, 0.29214465,\n",
       "        0.36636184],\n",
       "       [0.45606998, 0.78517596, 0.19967378, ..., 0.94888554, 0.96563203,\n",
       "        0.80839735],\n",
       "       ...,\n",
       "       [0.57719989, 0.04373907, 0.1230033 , ..., 0.42993108, 0.67296662,\n",
       "        0.27538117],\n",
       "       [0.3063135 , 0.78898516, 0.44641952, ..., 0.58219875, 0.37117242,\n",
       "        0.60107417],\n",
       "       [0.70558586, 0.68840502, 0.37455289, ..., 0.02544776, 0.64582239,\n",
       "        0.63690232]])"
      ]
     },
     "execution_count": 12,
     "metadata": {},
     "output_type": "execute_result"
    }
   ],
   "source": [
    "import numpy as np\n",
    "import pandas as pd\n",
    "\n",
    "# Criando uma matriz 200x12 com valores aleatórios entre 0 e 1\n",
    "np.random.seed(42) # Definindo uma semente para reproduzir o resultado\n",
    "dados = np.random.rand(200, 12) # Criando e populando a matriz\n",
    "\n",
    "dados"
   ]
  },
  {
   "cell_type": "markdown",
   "metadata": {},
   "source": [
    "2. Converta o dataset do exercício 1 em um dataframe de pandas. As instâncias devem ser numeradas de 0 a 199 e as características nomeadas com letras de \"a\" a \"l\" (inclua \"k\" como coluna). Apresente o dataset no formato dataframe. "
   ]
  },
  {
   "cell_type": "code",
   "execution_count": 13,
   "metadata": {},
   "outputs": [
    {
     "data": {
      "text/html": [
       "<div>\n",
       "<style scoped>\n",
       "    .dataframe tbody tr th:only-of-type {\n",
       "        vertical-align: middle;\n",
       "    }\n",
       "\n",
       "    .dataframe tbody tr th {\n",
       "        vertical-align: top;\n",
       "    }\n",
       "\n",
       "    .dataframe thead th {\n",
       "        text-align: right;\n",
       "    }\n",
       "</style>\n",
       "<table border=\"1\" class=\"dataframe\">\n",
       "  <thead>\n",
       "    <tr style=\"text-align: right;\">\n",
       "      <th></th>\n",
       "      <th>a</th>\n",
       "      <th>b</th>\n",
       "      <th>c</th>\n",
       "      <th>d</th>\n",
       "      <th>e</th>\n",
       "      <th>f</th>\n",
       "      <th>g</th>\n",
       "      <th>h</th>\n",
       "      <th>i</th>\n",
       "      <th>j</th>\n",
       "      <th>k</th>\n",
       "      <th>l</th>\n",
       "    </tr>\n",
       "  </thead>\n",
       "  <tbody>\n",
       "    <tr>\n",
       "      <th>0</th>\n",
       "      <td>0.374540</td>\n",
       "      <td>0.950714</td>\n",
       "      <td>0.731994</td>\n",
       "      <td>0.598658</td>\n",
       "      <td>0.156019</td>\n",
       "      <td>0.155995</td>\n",
       "      <td>0.058084</td>\n",
       "      <td>0.866176</td>\n",
       "      <td>0.601115</td>\n",
       "      <td>0.708073</td>\n",
       "      <td>0.020584</td>\n",
       "      <td>0.969910</td>\n",
       "    </tr>\n",
       "    <tr>\n",
       "      <th>1</th>\n",
       "      <td>0.832443</td>\n",
       "      <td>0.212339</td>\n",
       "      <td>0.181825</td>\n",
       "      <td>0.183405</td>\n",
       "      <td>0.304242</td>\n",
       "      <td>0.524756</td>\n",
       "      <td>0.431945</td>\n",
       "      <td>0.291229</td>\n",
       "      <td>0.611853</td>\n",
       "      <td>0.139494</td>\n",
       "      <td>0.292145</td>\n",
       "      <td>0.366362</td>\n",
       "    </tr>\n",
       "    <tr>\n",
       "      <th>2</th>\n",
       "      <td>0.456070</td>\n",
       "      <td>0.785176</td>\n",
       "      <td>0.199674</td>\n",
       "      <td>0.514234</td>\n",
       "      <td>0.592415</td>\n",
       "      <td>0.046450</td>\n",
       "      <td>0.607545</td>\n",
       "      <td>0.170524</td>\n",
       "      <td>0.065052</td>\n",
       "      <td>0.948886</td>\n",
       "      <td>0.965632</td>\n",
       "      <td>0.808397</td>\n",
       "    </tr>\n",
       "    <tr>\n",
       "      <th>3</th>\n",
       "      <td>0.304614</td>\n",
       "      <td>0.097672</td>\n",
       "      <td>0.684233</td>\n",
       "      <td>0.440152</td>\n",
       "      <td>0.122038</td>\n",
       "      <td>0.495177</td>\n",
       "      <td>0.034389</td>\n",
       "      <td>0.909320</td>\n",
       "      <td>0.258780</td>\n",
       "      <td>0.662522</td>\n",
       "      <td>0.311711</td>\n",
       "      <td>0.520068</td>\n",
       "    </tr>\n",
       "    <tr>\n",
       "      <th>4</th>\n",
       "      <td>0.546710</td>\n",
       "      <td>0.184854</td>\n",
       "      <td>0.969585</td>\n",
       "      <td>0.775133</td>\n",
       "      <td>0.939499</td>\n",
       "      <td>0.894827</td>\n",
       "      <td>0.597900</td>\n",
       "      <td>0.921874</td>\n",
       "      <td>0.088493</td>\n",
       "      <td>0.195983</td>\n",
       "      <td>0.045227</td>\n",
       "      <td>0.325330</td>\n",
       "    </tr>\n",
       "  </tbody>\n",
       "</table>\n",
       "</div>"
      ],
      "text/plain": [
       "          a         b         c         d         e         f         g  \\\n",
       "0  0.374540  0.950714  0.731994  0.598658  0.156019  0.155995  0.058084   \n",
       "1  0.832443  0.212339  0.181825  0.183405  0.304242  0.524756  0.431945   \n",
       "2  0.456070  0.785176  0.199674  0.514234  0.592415  0.046450  0.607545   \n",
       "3  0.304614  0.097672  0.684233  0.440152  0.122038  0.495177  0.034389   \n",
       "4  0.546710  0.184854  0.969585  0.775133  0.939499  0.894827  0.597900   \n",
       "\n",
       "          h         i         j         k         l  \n",
       "0  0.866176  0.601115  0.708073  0.020584  0.969910  \n",
       "1  0.291229  0.611853  0.139494  0.292145  0.366362  \n",
       "2  0.170524  0.065052  0.948886  0.965632  0.808397  \n",
       "3  0.909320  0.258780  0.662522  0.311711  0.520068  \n",
       "4  0.921874  0.088493  0.195983  0.045227  0.325330  "
      ]
     },
     "execution_count": 13,
     "metadata": {},
     "output_type": "execute_result"
    }
   ],
   "source": [
    "# Converta dados em um dataframe de pandas\n",
    "df = pd.DataFrame(dados)\n",
    "\n",
    "# As instâncias devem ser numeradas de 0 a 199\n",
    "df.index = range(200)\n",
    "\n",
    "# as características nomeadas com letras de \"a\" a \"l\"\n",
    "df.columns = list('abcdefghijkl')\n",
    "\n",
    "# Apresente o dataset no formato dataframe\n",
    "df.head()"
   ]
  },
  {
   "cell_type": "markdown",
   "metadata": {},
   "source": [
    "3. Mostre apenas as instâncias ímpares e as características \"b\", \"e\", \"f\" do dataset criado no exercício 2 ordenados crescentemente pelos valores da característica \"f\"."
   ]
  },
  {
   "cell_type": "code",
   "execution_count": 14,
   "metadata": {},
   "outputs": [
    {
     "data": {
      "text/html": [
       "<div>\n",
       "<style scoped>\n",
       "    .dataframe tbody tr th:only-of-type {\n",
       "        vertical-align: middle;\n",
       "    }\n",
       "\n",
       "    .dataframe tbody tr th {\n",
       "        vertical-align: top;\n",
       "    }\n",
       "\n",
       "    .dataframe thead th {\n",
       "        text-align: right;\n",
       "    }\n",
       "</style>\n",
       "<table border=\"1\" class=\"dataframe\">\n",
       "  <thead>\n",
       "    <tr style=\"text-align: right;\">\n",
       "      <th></th>\n",
       "      <th>b</th>\n",
       "      <th>e</th>\n",
       "      <th>f</th>\n",
       "    </tr>\n",
       "  </thead>\n",
       "  <tbody>\n",
       "    <tr>\n",
       "      <th>89</th>\n",
       "      <td>0.287239</td>\n",
       "      <td>0.042093</td>\n",
       "      <td>0.017874</td>\n",
       "    </tr>\n",
       "    <tr>\n",
       "      <th>87</th>\n",
       "      <td>0.615863</td>\n",
       "      <td>0.870099</td>\n",
       "      <td>0.021269</td>\n",
       "    </tr>\n",
       "    <tr>\n",
       "      <th>31</th>\n",
       "      <td>0.683007</td>\n",
       "      <td>0.844875</td>\n",
       "      <td>0.023272</td>\n",
       "    </tr>\n",
       "    <tr>\n",
       "      <th>191</th>\n",
       "      <td>0.516573</td>\n",
       "      <td>0.219069</td>\n",
       "      <td>0.036721</td>\n",
       "    </tr>\n",
       "    <tr>\n",
       "      <th>81</th>\n",
       "      <td>0.214940</td>\n",
       "      <td>0.595078</td>\n",
       "      <td>0.051426</td>\n",
       "    </tr>\n",
       "  </tbody>\n",
       "</table>\n",
       "</div>"
      ],
      "text/plain": [
       "            b         e         f\n",
       "89   0.287239  0.042093  0.017874\n",
       "87   0.615863  0.870099  0.021269\n",
       "31   0.683007  0.844875  0.023272\n",
       "191  0.516573  0.219069  0.036721\n",
       "81   0.214940  0.595078  0.051426"
      ]
     },
     "execution_count": 14,
     "metadata": {},
     "output_type": "execute_result"
    }
   ],
   "source": [
    "# Mostre apenas as instâncias ímpares e as características \"b\", \"e\", \"f\" de df\n",
    "df_3 = df.loc[1::2, [\"b\", \"e\", \"f\"]]\n",
    "\n",
    "# ordenados crescentemente pelos valores da característica \"f\"\n",
    "df_3 = df_3.sort_values(by=\"f\")\n",
    "\n",
    "df_3.head()"
   ]
  },
  {
   "cell_type": "markdown",
   "metadata": {},
   "source": [
    "4. Apresente a soma dos valores, os valores mínimos e máximos, a média e o desvio padrão de cada coluna do dataset do exercício 3. Apresente também o intervalo de confiança de cada característica."
   ]
  },
  {
   "cell_type": "code",
   "execution_count": 15,
   "metadata": {},
   "outputs": [
    {
     "data": {
      "text/html": [
       "<div>\n",
       "<style scoped>\n",
       "    .dataframe tbody tr th:only-of-type {\n",
       "        vertical-align: middle;\n",
       "    }\n",
       "\n",
       "    .dataframe tbody tr th {\n",
       "        vertical-align: top;\n",
       "    }\n",
       "\n",
       "    .dataframe thead th {\n",
       "        text-align: right;\n",
       "    }\n",
       "</style>\n",
       "<table border=\"1\" class=\"dataframe\">\n",
       "  <thead>\n",
       "    <tr style=\"text-align: right;\">\n",
       "      <th></th>\n",
       "      <th>b</th>\n",
       "      <th>e</th>\n",
       "      <th>f</th>\n",
       "    </tr>\n",
       "  </thead>\n",
       "  <tbody>\n",
       "    <tr>\n",
       "      <th>Soma</th>\n",
       "      <td>51.760957</td>\n",
       "      <td>44.701758</td>\n",
       "      <td>48.174164</td>\n",
       "    </tr>\n",
       "    <tr>\n",
       "      <th>Mínimo</th>\n",
       "      <td>0.009197</td>\n",
       "      <td>0.005062</td>\n",
       "      <td>0.017874</td>\n",
       "    </tr>\n",
       "    <tr>\n",
       "      <th>Máximo</th>\n",
       "      <td>0.996334</td>\n",
       "      <td>0.996334</td>\n",
       "      <td>0.991810</td>\n",
       "    </tr>\n",
       "    <tr>\n",
       "      <th>Média</th>\n",
       "      <td>0.517610</td>\n",
       "      <td>0.447018</td>\n",
       "      <td>0.481742</td>\n",
       "    </tr>\n",
       "    <tr>\n",
       "      <th>Desvio Padrão</th>\n",
       "      <td>0.269861</td>\n",
       "      <td>0.313007</td>\n",
       "      <td>0.286393</td>\n",
       "    </tr>\n",
       "    <tr>\n",
       "      <th>Intervalo de Confiança</th>\n",
       "      <td>0.533245</td>\n",
       "      <td>0.417877</td>\n",
       "      <td>0.473215</td>\n",
       "    </tr>\n",
       "  </tbody>\n",
       "</table>\n",
       "</div>"
      ],
      "text/plain": [
       "                                b          e          f\n",
       "Soma                    51.760957  44.701758  48.174164\n",
       "Mínimo                   0.009197   0.005062   0.017874\n",
       "Máximo                   0.996334   0.996334   0.991810\n",
       "Média                    0.517610   0.447018   0.481742\n",
       "Desvio Padrão            0.269861   0.313007   0.286393\n",
       "Intervalo de Confiança   0.533245   0.417877   0.473215"
      ]
     },
     "execution_count": 15,
     "metadata": {},
     "output_type": "execute_result"
    }
   ],
   "source": [
    "from numpy import sqrt\n",
    "from scipy import stats\n",
    "\n",
    "# Apresente a soma dos valores, os valores mínimos e máximos, a média e o desvio padrão de cada coluna de df_3\n",
    "df_sum = df_3.sum()\n",
    "\n",
    "df_min = df_3.min()\n",
    "\n",
    "df_max = df_3.max()\n",
    "\n",
    "df_mean = df_3.mean()\n",
    "\n",
    "df_std = df_3.std()\n",
    "\n",
    "# Apresente também o intervalo de confiança de cada característica.\n",
    "df_confidence_interval = df_3.quantile()\n",
    "stats = [\n",
    "    df_sum,\n",
    "    df_min,\n",
    "    df_max,\n",
    "    df_mean,\n",
    "    df_std,\n",
    "    df_confidence_interval\n",
    "]\n",
    "\n",
    "df_4 = pd.DataFrame(stats, index=['Soma', 'Mínimo', 'Máximo', 'Média', 'Desvio Padrão', 'Intervalo de Confiança'])\n",
    "\n",
    "df_4\n"
   ]
  },
  {
   "cell_type": "markdown",
   "metadata": {},
   "source": [
    "5. Faça um gráfico de caixas com dados de cada característica (coluna) do dataframe do exercício 2."
   ]
  },
  {
   "cell_type": "code",
   "execution_count": 16,
   "metadata": {},
   "outputs": [
    {
     "data": {
      "image/png": "[encoded data removed]",
      "text/plain": [
       "<Figure size 640x480 with 1 Axes>"
      ]
     },
     "metadata": {},
     "output_type": "display_data"
    }
   ],
   "source": [
    "import matplotlib.pyplot as plt\n",
    "\n",
    "plt.boxplot(df, labels=df.columns)\n",
    "plt.show()"
   ]
  },
  {
   "cell_type": "markdown",
   "metadata": {},
   "source": [
    "6. Obtenha média, desvio padrão e intervalo de confiança de cada característica da base iris. Contraste os resultados com os obtidos fazendo um gráfico de barras com intervalo de confiança."
   ]
  },
  {
   "cell_type": "code",
   "execution_count": 17,
   "metadata": {},
   "outputs": [],
   "source": [
    "from sklearn.datasets import load_iris \n",
    "\n",
    "iris = load_iris()\n",
    "X = iris.data\n",
    "y = iris.target\n",
    "\n",
    "df = pd.DataFrame(X, columns=iris.feature_names)"
   ]
  },
  {
   "cell_type": "code",
   "execution_count": 18,
   "metadata": {},
   "outputs": [
    {
     "name": "stdout",
     "output_type": "stream",
     "text": [
      "sepal length (cm)\n",
      "mean:  5.843333333333334\n",
      "standard deviation:  0.8253012917851409\n",
      "95% confidence interval method: (5.71126004639192, 5.975406620274748)\n",
      "\n",
      "sepal width (cm)\n",
      "mean:  3.0573333333333337\n",
      "standard deviation:  0.4344109677354946\n",
      "95% confidence interval method: (2.987814377088729, 3.1268522895779385)\n",
      "\n",
      "petal length (cm)\n",
      "mean:  3.7580000000000005\n",
      "standard deviation:  1.759404065775303\n",
      "95% confidence interval method: (3.4764418825730785, 4.039558117426923)\n",
      "\n",
      "petal width (cm)\n",
      "mean:  1.1993333333333336\n",
      "standard deviation:  0.7596926279021594\n",
      "95% confidence interval method: (1.0777594264087826, 1.3209072402578845)\n",
      "\n"
     ]
    }
   ],
   "source": [
    "from numpy import mean, std\n",
    "from scipy import stats\n",
    "\n",
    "for caract in range(X.shape[1]):\n",
    "    values = df.iloc[:, caract]\n",
    "    x_mean, x_std = mean(values), std(values)\n",
    "    print(df.columns[caract])\n",
    "    print('mean: ', x_mean) \n",
    "    print('standard deviation: ', x_std)\n",
    "    print('95% confidence interval method:',\n",
    "       stats.norm.interval(0.95, loc=x_mean, \n",
    "                           scale=x_std/sqrt(len(values))))\n",
    "    print()"
   ]
  },
  {
   "cell_type": "code",
   "execution_count": 19,
   "metadata": {},
   "outputs": [
    {
     "data": {
      "image/png": "[encoded data removed]",
      "text/plain": [
       "<Figure size 640x480 with 1 Axes>"
      ]
     },
     "metadata": {},
     "output_type": "display_data"
    }
   ],
   "source": [
    "import seaborn as sns\n",
    "\n",
    "sns.barplot(data=df)\n",
    "plt.show()"
   ]
  },
  {
   "cell_type": "markdown",
   "metadata": {},
   "source": [
    "7. Faça um histograma com 7 faixas equidistantes de valores para a característica sepal_width da base iris."
   ]
  },
  {
   "cell_type": "code",
   "execution_count": 20,
   "metadata": {},
   "outputs": [
    {
     "data": {
      "image/png": "[encoded data removed]",
      "text/plain": [
       "<Figure size 640x480 with 1 Axes>"
      ]
     },
     "metadata": {},
     "output_type": "display_data"
    }
   ],
   "source": [
    "# Criando o histograma com 7 faixas\n",
    "plt.hist(df.loc[:, 'sepal width (cm)'], bins = 7)\n",
    "plt.title('Histograma com 7 faixas')\n",
    "\n",
    "plt.show()"
   ]
  },
  {
   "cell_type": "markdown",
   "metadata": {},
   "source": [
    "8. Faça um gráfico de dispersão apresentando os dados das caraterísticas sepal_length e sepal_width diferenciando os exemplos de cada classe."
   ]
  },
  {
   "cell_type": "code",
   "execution_count": 21,
   "metadata": {},
   "outputs": [
    {
     "data": {
      "image/png": "[encoded data removed]",
      "text/plain": [
       "<Figure size 640x480 with 1 Axes>"
      ]
     },
     "metadata": {},
     "output_type": "display_data"
    }
   ],
   "source": [
    "# Gráfico de dispersão do sepal length vs sepal width\n",
    "plt.scatter(df['sepal length (cm)'], df['sepal width (cm)'], c=y)\n",
    "plt.show()"
   ]
  },
  {
   "cell_type": "markdown",
   "metadata": {},
   "source": [
    "9. Apresente um gráfico com a projeção TSNE criado no exercício 1."
   ]
  },
  {
   "cell_type": "code",
   "execution_count": 24,
   "metadata": {},
   "outputs": [
    {
     "data": {
      "image/png": "[encoded data removed]",
      "text/plain": [
       "<Figure size 640x480 with 1 Axes>"
      ]
     },
     "metadata": {},
     "output_type": "display_data"
    }
   ],
   "source": [
    "from sklearn.manifold import TSNE\n",
    "\n",
    "tnse = TSNE(n_components=2, random_state=0)\n",
    "\n",
    "tnse_results = tnse.fit_transform(dados)\n",
    "\n",
    "df = pd.DataFrame()\n",
    "df[\"comp-1\"] = tnse_results[:,0]\n",
    "df[\"comp-2\"] = tnse_results[:,1]\n",
    "\n",
    "output = sns.scatterplot(data=df, x=\"comp-1\", y=\"comp-2\").set(title=\n",
    "                \"Projecao T-SNE da base Iris\")"
   ]
  }
 ],
 "metadata": {
  "kernelspec": {
   "display_name": "Python 3",
   "language": "python",
   "name": "python3"
  },
  "language_info": {
   "codemirror_mode": {
    "name": "ipython",
    "version": 3
   },
   "file_extension": ".py",
   "mimetype": "text/x-python",
   "name": "python",
   "nbconvert_exporter": "python",
   "pygments_lexer": "ipython3",
   "version": "3.8.10"
  },
  "orig_nbformat": 4
 },
 "nbformat": 4,
 "nbformat_minor": 2
}
