{
 "cells": [
  {
   "cell_type": "markdown",
   "metadata": {},
   "source": [
    "9. Indique e explique qual problema motivou o desenvolvimento da técnica proposta no artigo \"Visualizing Data using t-SNE\"."
   ]
  },
  {
   "cell_type": "markdown",
   "metadata": {},
   "source": [
    "A visualização de dados de dimensões maiores que 2.\n",
    "\n",
    "Abordagens até o momento usam iconografias (Chenrnoff, 1973), técnicas baseadas em píxels (Keim, 2000), ou técnicas que repesentam as dimensões em vértices de um grafo (Battista et al., 1994).\n",
    "\n",
    "Essas abordagens são ferramentas para exibir mais que duas dimensões, e o trabalho da interpretação destes fica ao observador. Em contraste t-SNE é uma técnica de puramente redução de dimensionalidade.\n",
    "\n",
    "Isso é feito visualizando, ao invés do dado original, uma matriz de similaridades em pares."
   ]
  }
 ],
 "metadata": {
  "language_info": {
   "name": "python"
  }
 },
 "nbformat": 4,
 "nbformat_minor": 2
}
